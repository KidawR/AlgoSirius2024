{
 "cells": [
  {
   "cell_type": "code",
   "execution_count": 12,
   "outputs": [
    {
     "name": "stdout",
     "output_type": "stream",
     "text": [
      "Самые релевантные объекты: 1 10 9\n",
      "Самые релевантные объекты: 1 10\n",
      "Самые релевантные объекты: 1 10 9 8 7 6 5 4 3 2\n",
      "Самые релевантные объекты: 4 1 10 9 8 7 6 5 3 2\n"
     ]
    }
   ],
   "source": [
    "class ObjectManager:\n",
    "    def __init__(self, weights, objects):\n",
    "        self.weights = weights  # Веса признаков\n",
    "        self.objects = objects  # Список объектов\n",
    "\n",
    "    def calculate_relevance(self, features):\n",
    "        \"\"\"Вычисляет релевантность на основе весов и признаков.\"\"\"\n",
    "        return sum(w * f for w, f in zip(self.weights, features))\n",
    "\n",
    "    def update_feature(self, object_index, feature_index, new_value):\n",
    "        \"\"\"Обновляет значение признака для указанного объекта.\"\"\"\n",
    "        self.objects[object_index][feature_index] = new_value\n",
    "\n",
    "    def get_top_k_relevant(self, k):\n",
    "        \"\"\"Возвращает индексы k самых релевантных объектов.\"\"\"\n",
    "        relevances = [self.calculate_relevance(obj) for obj in self.objects]\n",
    "        sorted_indices = sorted(range(len(self.objects)), key=lambda i: relevances[i], reverse=True)\n",
    "        return sorted_indices[:k]\n",
    "\n",
    "def main():\n",
    "    # Фиксированный ввод данных\n",
    "    weights = [1, 100]  # Веса признаков\n",
    "    objects = [\n",
    "        [1, 2],  # Объект 1\n",
    "        [2, 1],  # Объект 2\n",
    "        [3, 1],  # Объект 3\n",
    "        [4, 1],  # Объект 4\n",
    "        [5, 1],   # Объект 5\n",
    "        [6, 1],\n",
    "        [7, 1],\n",
    "        [8, 1],\n",
    "        [9, 1],\n",
    "        [10, 1],\n",
    "    ]\n",
    "\n",
    "    manager = ObjectManager(weights, objects)\n",
    "\n",
    "    # Обработка запросов\n",
    "    queries = [\n",
    "        (1, 3),  # Запрос на поиск 3 самых релевантных объектов\n",
    "        (1, 2),\n",
    "        (1, 10),\n",
    "        (2, 4, 1, 1000),  # Обновление 2-го признака у 4-го объекта на 1000\n",
    "        (1, 10)  # Повторный запрос на поиск 3 самых релевантных объектов\n",
    "    ]\n",
    "\n",
    "    for query in queries:\n",
    "        if query[0] == 1:  # Запрос на поиск\n",
    "            k = query[1]\n",
    "            top_k_indices = manager.get_top_k_relevant(k)\n",
    "            print(\"Самые релевантные объекты:\", \" \".join(str(i + 1) for i in top_k_indices))\n",
    "        elif query[0] == 2:  # Запрос на обновление\n",
    "            obj_index = query[1] - 1\n",
    "            feature_index = query[2] - 1\n",
    "            new_value = query[3]\n",
    "            manager.update_feature(obj_index, feature_index, new_value)\n",
    "\n",
    "if __name__ == \"__main__\":\n",
    "    main()\n"
   ],
   "metadata": {
    "collapsed": false,
    "ExecuteTime": {
     "end_time": "2024-11-21T16:22:56.129343Z",
     "start_time": "2024-11-21T16:22:56.104012Z"
    }
   },
   "id": "b8eef9fe3972dc0c"
  },
  {
   "cell_type": "code",
   "execution_count": null,
   "outputs": [],
   "source": [],
   "metadata": {
    "collapsed": false
   },
   "id": "598b43d66b689db1"
  }
 ],
 "metadata": {
  "kernelspec": {
   "display_name": "Python 3",
   "language": "python",
   "name": "python3"
  },
  "language_info": {
   "codemirror_mode": {
    "name": "ipython",
    "version": 2
   },
   "file_extension": ".py",
   "mimetype": "text/x-python",
   "name": "python",
   "nbconvert_exporter": "python",
   "pygments_lexer": "ipython2",
   "version": "2.7.6"
  }
 },
 "nbformat": 4,
 "nbformat_minor": 5
}
