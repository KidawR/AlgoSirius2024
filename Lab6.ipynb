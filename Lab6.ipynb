{
 "cells": [
  {
   "cell_type": "code",
   "execution_count": 1,
   "id": "initial_id",
   "metadata": {
    "collapsed": true,
    "ExecuteTime": {
     "end_time": "2024-11-21T15:54:50.229483Z",
     "start_time": "2024-11-21T15:54:50.223039Z"
    }
   },
   "outputs": [],
   "source": [
    "from collections import Counter\n",
    "from datetime import datetime, timedelta\n",
    "\n",
    "def busiest_day(visits):\n",
    "    counter = Counter()\n",
    "\n",
    "    for start, end in visits:\n",
    "        start_date = datetime.strptime(start, \"%Y-%m-%d\")\n",
    "        end_date = datetime.strptime(end, \"%Y-%m-%d\")\n",
    "\n",
    "        current_date = start_date\n",
    "        while current_date <= end_date:\n",
    "            counter[current_date] += 1\n",
    "            current_date += timedelta(days=1)\n",
    "\n",
    "    # Найти день с максимальным количеством посетителей\n",
    "    max_day = max(counter, key=counter.get)\n",
    "    return max_day.strftime(\"%Y-%m-%d\"), counter[max_day]\n"
   ]
  },
  {
   "cell_type": "code",
   "execution_count": 2,
   "outputs": [
    {
     "name": "stdout",
     "output_type": "stream",
     "text": [
      "День с максимальным количеством посетителей: 2024-09-15, количество: 2\n"
     ]
    }
   ],
   "source": [
    "visits = [(\"2024-09-15\", \"2024-09-15\"), (\"2024-09-14\", \"2024-09-21\"), (\"2024-09-20\", \"2024-09-21\")]\n",
    "result = busiest_day(visits)\n",
    "print(f\"День с максимальным количеством посетителей: {result[0]}, количество: {result[1]}\")"
   ],
   "metadata": {
    "collapsed": false,
    "ExecuteTime": {
     "end_time": "2024-11-21T15:54:50.760104Z",
     "start_time": "2024-11-21T15:54:50.741543Z"
    }
   },
   "id": "a6a97cdaba5eb04e"
  },
  {
   "cell_type": "code",
   "execution_count": null,
   "outputs": [],
   "source": [],
   "metadata": {
    "collapsed": false
   },
   "id": "4090c1960e259214"
  }
 ],
 "metadata": {
  "kernelspec": {
   "display_name": "Python 3",
   "language": "python",
   "name": "python3"
  },
  "language_info": {
   "codemirror_mode": {
    "name": "ipython",
    "version": 2
   },
   "file_extension": ".py",
   "mimetype": "text/x-python",
   "name": "python",
   "nbconvert_exporter": "python",
   "pygments_lexer": "ipython2",
   "version": "2.7.6"
  }
 },
 "nbformat": 4,
 "nbformat_minor": 5
}
