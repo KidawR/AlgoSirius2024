{
 "cells": [
  {
   "cell_type": "code",
   "execution_count": 1,
   "id": "1b8d2c7c-31ce-4401-86d4-df6f9b575b8d",
   "metadata": {
    "ExecuteTime": {
     "end_time": "2024-11-11T07:22:35.839706Z",
     "start_time": "2024-11-11T07:22:35.831092Z"
    }
   },
   "outputs": [],
   "source": [
    "class Node():\n",
    "    def __init__(self, d):\n",
    "        self.data = d\n",
    "        self.next = None\n",
    "\n",
    "\n",
    "class LinkedList():\n",
    "    def __init__(self):\n",
    "        self.head = None\n",
    "        self.size = 0\n",
    "\n",
    "    def get_last(self):\n",
    "        iter = self.head\n",
    "        if iter is not None:\n",
    "            while iter.next is not None:\n",
    "                iter = iter.next\n",
    "            return iter\n",
    "        return None\n",
    "\n",
    "    def __get_last_rec(self, node):\n",
    "        if node.next is None:\n",
    "            return node\n",
    "        else:\n",
    "            return self.__get_last_rec(node.next)\n",
    "\n",
    "    def get_last_rec(self):\n",
    "        if self.head is None:\n",
    "            return None\n",
    "        return self.__get_last_rec(self.head)\n",
    "    \n",
    "    def add(self, data):\n",
    "        new_node = Node(data)\n",
    "        if self.head is None:\n",
    "            self.head = new_node\n",
    "        else:\n",
    "            last = self.get_last_rec()\n",
    "            last.next = new_node\n",
    "        self.size += 1\n",
    "\n",
    "    def __print_list(self, node):\n",
    "        print(node.data)\n",
    "        if node.next is not None:\n",
    "            self.__print_list(node.next)\n",
    "    \n",
    "    def print_list(self):\n",
    "        if self.head is not None:\n",
    "            self.__print_list(self.head)\n",
    "\n",
    "    def insert(self, data, n):\n",
    "        if n < self.size:\n",
    "            iter = self.head\n",
    "            prev = None\n",
    "            for i in range(n):\n",
    "                prev = iter\n",
    "                iter = iter.next\n",
    "            new_node = Node(data)\n",
    "            if prev is not None:\n",
    "                prev.next = new_node\n",
    "            new_node.next = iter\n",
    "    # метод который разворачивает список сложность O(N), при этом используется одна переменная O(1)\n",
    "    def reverse(self):\n",
    "        prev = None\n",
    "        current = self.head\n",
    "        while current is not None:\n",
    "            next_node = current.next\n",
    "            current.next = prev\n",
    "            prev = current\n",
    "            current = next_node\n",
    "        self.head = prev"
   ]
  },
  {
   "cell_type": "code",
   "execution_count": 2,
   "id": "a4db5882-7814-46bc-9e8e-4ab12eec5169",
   "metadata": {
    "ExecuteTime": {
     "end_time": "2024-11-11T07:22:38.692716Z",
     "start_time": "2024-11-11T07:22:38.678921Z"
    }
   },
   "outputs": [],
   "source": [
    "l = LinkedList()"
   ]
  },
  {
   "cell_type": "code",
   "execution_count": 7,
   "outputs": [],
   "source": [
    "l.add(1)"
   ],
   "metadata": {
    "collapsed": false,
    "ExecuteTime": {
     "end_time": "2024-11-11T07:22:51.753935Z",
     "start_time": "2024-11-11T07:22:51.729374Z"
    }
   },
   "id": "e795f015b545a2ea"
  },
  {
   "cell_type": "code",
   "execution_count": 12,
   "id": "fc6c0786-db18-4903-8fb9-8b87faeb999d",
   "metadata": {
    "ExecuteTime": {
     "end_time": "2024-11-10T15:40:36.622948Z",
     "start_time": "2024-11-10T15:40:36.608076Z"
    }
   },
   "outputs": [
    {
     "data": {
      "text/plain": "0"
     },
     "execution_count": 12,
     "metadata": {},
     "output_type": "execute_result"
    }
   ],
   "source": [
    "l.get_last().data"
   ]
  },
  {
   "cell_type": "code",
   "execution_count": null,
   "outputs": [],
   "source": [
    "l.size"
   ],
   "metadata": {
    "collapsed": false
   },
   "id": "258dc4efedcc40f8"
  },
  {
   "cell_type": "code",
   "execution_count": 12,
   "outputs": [
    {
     "name": "stdout",
     "output_type": "stream",
     "text": [
      "1\n",
      "0\n",
      "2\n",
      "0\n"
     ]
    }
   ],
   "source": [
    "l.print_list()"
   ],
   "metadata": {
    "collapsed": false,
    "ExecuteTime": {
     "end_time": "2024-11-11T07:23:18.704829Z",
     "start_time": "2024-11-11T07:23:18.693031Z"
    }
   },
   "id": "519c150509e32e3c"
  },
  {
   "cell_type": "code",
   "execution_count": 9,
   "outputs": [],
   "source": [
    "l.insert(2, 1)"
   ],
   "metadata": {
    "collapsed": false,
    "ExecuteTime": {
     "end_time": "2024-11-11T07:22:58.099016Z",
     "start_time": "2024-11-11T07:22:58.088722Z"
    }
   },
   "id": "7383fb61c96ef2a5"
  },
  {
   "cell_type": "code",
   "execution_count": 11,
   "outputs": [],
   "source": [
    "l.reverse()"
   ],
   "metadata": {
    "collapsed": false,
    "ExecuteTime": {
     "end_time": "2024-11-11T07:23:15.759394Z",
     "start_time": "2024-11-11T07:23:15.745482Z"
    }
   },
   "id": "29eb4f8f7cee0420"
  },
  {
   "cell_type": "code",
   "execution_count": 13,
   "id": "3e0360fb-280b-4c27-a9d8-bb6c9d1bff4b",
   "metadata": {
    "ExecuteTime": {
     "end_time": "2024-11-10T15:40:37.452248Z",
     "start_time": "2024-11-10T15:40:37.433666Z"
    }
   },
   "outputs": [
    {
     "data": {
      "text/plain": "1"
     },
     "execution_count": 13,
     "metadata": {},
     "output_type": "execute_result"
    }
   ],
   "source": [
    "l.add(1)\n",
    "l.get_last().data"
   ]
  },
  {
   "cell_type": "code",
   "execution_count": 14,
   "id": "482a2706-a167-4ede-b564-14fd3b7d6565",
   "metadata": {
    "ExecuteTime": {
     "end_time": "2024-11-10T15:40:38.172040Z",
     "start_time": "2024-11-10T15:40:38.161055Z"
    }
   },
   "outputs": [
    {
     "data": {
      "text/plain": "2"
     },
     "execution_count": 14,
     "metadata": {},
     "output_type": "execute_result"
    }
   ],
   "source": [
    "l.size"
   ]
  },
  {
   "cell_type": "code",
   "execution_count": 15,
   "id": "bc03e93f-5eba-48fe-959d-2e443701e6fa",
   "metadata": {
    "ExecuteTime": {
     "end_time": "2024-11-10T15:40:39.302896Z",
     "start_time": "2024-11-10T15:40:39.294060Z"
    }
   },
   "outputs": [
    {
     "name": "stdout",
     "output_type": "stream",
     "text": [
      "0\n",
      "1\n"
     ]
    }
   ],
   "source": [
    "l.print_list()"
   ]
  },
  {
   "cell_type": "code",
   "execution_count": 7,
   "id": "547f1d23-7b9c-4bb2-93c2-c93f2ce6a262",
   "metadata": {
    "ExecuteTime": {
     "end_time": "2024-11-10T15:40:27.163213Z",
     "start_time": "2024-11-10T15:40:27.149824Z"
    }
   },
   "outputs": [],
   "source": [
    "l.insert(2, 1)"
   ]
  },
  {
   "cell_type": "code",
   "execution_count": 8,
   "id": "b36da509-5625-4868-923c-41d43be461b9",
   "metadata": {
    "ExecuteTime": {
     "end_time": "2024-11-10T15:40:27.739939Z",
     "start_time": "2024-11-10T15:40:27.725386Z"
    }
   },
   "outputs": [
    {
     "name": "stdout",
     "output_type": "stream",
     "text": [
      "0\n",
      "2\n",
      "1\n"
     ]
    }
   ],
   "source": [
    "l.print_list()"
   ]
  },
  {
   "cell_type": "code",
   "execution_count": 9,
   "id": "3acd722a-ac59-4ebb-a0cf-19f08729864e",
   "metadata": {
    "ExecuteTime": {
     "end_time": "2024-11-10T15:40:29.047639Z",
     "start_time": "2024-11-10T15:40:29.033176Z"
    }
   },
   "outputs": [],
   "source": [
    "l.insert(3, 0)"
   ]
  },
  {
   "cell_type": "code",
   "execution_count": 10,
   "id": "7a38b00b-26cb-437d-8584-ea388ac01aba",
   "metadata": {
    "ExecuteTime": {
     "end_time": "2024-11-10T15:40:29.530458Z",
     "start_time": "2024-11-10T15:40:29.520480Z"
    }
   },
   "outputs": [
    {
     "name": "stdout",
     "output_type": "stream",
     "text": [
      "0\n",
      "2\n",
      "1\n"
     ]
    }
   ],
   "source": [
    "l.print_list()"
   ]
  },
  {
   "cell_type": "code",
   "execution_count": 10,
   "id": "de847e56-fdc6-4072-829c-c3dce4d02199",
   "metadata": {
    "ExecuteTime": {
     "end_time": "2024-11-10T15:40:30.326764Z",
     "start_time": "2024-11-10T15:40:30.278356Z"
    }
   },
   "outputs": [],
   "source": []
  },
  {
   "cell_type": "code",
   "execution_count": null,
   "outputs": [],
   "source": [],
   "metadata": {
    "collapsed": false
   },
   "id": "a08f0df234d27a99"
  }
 ],
 "metadata": {
  "kernelspec": {
   "display_name": "Python 3 (ipykernel)",
   "language": "python",
   "name": "python3"
  },
  "language_info": {
   "codemirror_mode": {
    "name": "ipython",
    "version": 3
   },
   "file_extension": ".py",
   "mimetype": "text/x-python",
   "name": "python",
   "nbconvert_exporter": "python",
   "pygments_lexer": "ipython3",
   "version": "3.10.12"
  }
 },
 "nbformat": 4,
 "nbformat_minor": 5
}
