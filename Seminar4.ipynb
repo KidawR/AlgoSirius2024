{
 "cells": [
  {
   "cell_type": "code",
   "execution_count": null,
   "id": "f4b7f9ae-0256-4900-963e-51801e05592e",
   "metadata": {},
   "outputs": [],
   "source": []
  },
  {
   "cell_type": "code",
   "execution_count": 152,
   "id": "8a7bc350-9e9d-4c0a-aa0b-796b2a1393e5",
   "metadata": {
    "ExecuteTime": {
     "end_time": "2024-11-11T19:21:11.604563Z",
     "start_time": "2024-11-11T19:21:11.597360Z"
    }
   },
   "outputs": [],
   "source": [
    "class Node():\n",
    "    def __init__(self, data):\n",
    "        self.data = data\n",
    "        self.left = None\n",
    "        self.right = None\n",
    "\n",
    "\n",
    "class BinarySearchTree():\n",
    "    def __init__(self):\n",
    "        self.root = None\n",
    "        self.count = 0\n",
    "        \n",
    "    def tree_print(self):\n",
    "        self.__tree_print(self.root)\n",
    "\n",
    "    def tree_walk_horisontal(self):\n",
    "        if self.root is not None:\n",
    "            self.__tree_walk_hor([self.root])\n",
    "        \n",
    "    def __tree_walk_hor(self, nodes: list):\n",
    "        new_list = []\n",
    "        if len(nodes) == 0:\n",
    "            return\n",
    "        for obj in nodes:\n",
    "            print(obj.data, end = \" \")\n",
    "            if obj.left is not None:\n",
    "                new_list.append(obj.left)\n",
    "            if obj.right is not None:\n",
    "                new_list.append(obj.right)\n",
    "        print()\n",
    "        self.__tree_walk_hor(new_list)\n",
    "        \n",
    "    def __tree_print(self, node):\n",
    "        if node is not None:\n",
    "            print(node.data)\n",
    "            print(\"left\", node.left.data if (node.left is not None) else None)\n",
    "            print(\"right\", node.right.data if (node.right is not None) else None)\n",
    "            print('-' * 100)\n",
    "            self.__tree_print(node.left)\n",
    "            self.__tree_print(node.right)\n",
    "\n",
    "    def __height(self, node):\n",
    "        self.count += 1\n",
    "        if node is None:\n",
    "            return 0\n",
    "        return max(self.__height(node.left), self.__height(node.right)) + 1\n",
    "    \n",
    "    def height(self):\n",
    "        if self.root is None:\n",
    "            return 0\n",
    "        return self.__height(self.root)\n",
    "\n",
    "    def bfs(self):\n",
    "        for i in range(self.height()):\n",
    "            self.level_print(self.root, i)\n",
    "            print()\n",
    "            \n",
    "    def level_print(self, node, level):\n",
    "        if node is None:\n",
    "            return\n",
    "        if level == 0:\n",
    "            print(node.data, end=' ')\n",
    "        self.level_print(node.left, level - 1)\n",
    "        self.level_print(node.right, level - 1)\n",
    "\n",
    "    def __delete(self, node, elem):\n",
    "        if node is not None:\n",
    "            if node.left is not None:\n",
    "                if elem == node.left.data:\n",
    "                    hll = self.__height(node.left.left)\n",
    "                    hlr = self.__height(node.left.right)\n",
    "                    if hll > hlr:\n",
    "                        node.left = self.smallRotation(node.left, 1)\n",
    "                        tmp = node.left.right\n",
    "                        node.left.right = node.left.right.right\n",
    "                        node.left.right.left = tmp\n",
    "                            \n",
    "                    else:\n",
    "                        node.right = self.smallRotation(node.right, -1)\n",
    "                        tmp = node.right.left\n",
    "                        node.right.left = node.right.left.left\n",
    "                        node.right.left.right = tmp\n",
    "            \n",
    "            if node.right is not None:\n",
    "                if elem == node.right.data:\n",
    "                    nodeSave = None\n",
    "                    if node.right.left is not None:\n",
    "                        if node.right.left.right is not None:\n",
    "                            nodeSave = node.right.left.right\n",
    "                        oldRight = node.right.right\n",
    "                        node.right = node.right.left\n",
    "                        node.right.right = oldRight\n",
    "                        \n",
    "                    \n",
    "            self.__delete(node.left, elem)\n",
    "            self.__delete(node.right, elem)\n",
    "\n",
    "    \n",
    "    def delete(self, elem):\n",
    "        if self.root is None:\n",
    "            return\n",
    "        self.__delete(self.root, elem)\n",
    "\n",
    "    def smallRotate(self, node, rotDir):\n",
    "        self.count += 1\n",
    "        if rotDir == 1: #rotation to the right\n",
    "            p = node\n",
    "            q = node.left\n",
    "            b = q.right\n",
    "            node = q\n",
    "            node.right = p\n",
    "            p.left = b\n",
    "        if rotDir == -1: #rotation to the left\n",
    "            q = node\n",
    "            p = node.right\n",
    "            b = p.left\n",
    "            node = p\n",
    "            node.left = q\n",
    "            q.right = b\n",
    "        return node\n",
    "\n",
    "    \n",
    "    def __balance(self, node):\n",
    "        self.count += 1\n",
    "        if node is not None:\n",
    "            node.left = self.__balance(node.left)\n",
    "            hl = self.__height(node.left)\n",
    "            hr = self.__height(node.right)\n",
    "            if (hl-hr) > 1:\n",
    "                hll = self.__height(node.left.left)\n",
    "                hlr = self.__height(node.left.right)\n",
    "                if hll < hlr:\n",
    "                    node.left = self.smallRotate(node.left, -1)\n",
    "                node = self.smallRotate(node, 1)\n",
    "            \n",
    "            node.right = self.__balance(node.right)\n",
    "            hl = self.__height(node.left)\n",
    "            hr = self.__height(node.right)\n",
    "            if (hr - hl) > 1:\n",
    "                hrl = self.__height(node.right.left)\n",
    "                hrr = self.__height(node.right.right)\n",
    "                if hrl > hrr:\n",
    "                    node.right = self.smallRotate(node.right, 1)\n",
    "                node = self.smallRotate(node, -1)\n",
    "        return node\n",
    "                \n",
    "    def balance(self):\n",
    "        self.count = 0\n",
    "        if self.root is not None:\n",
    "            self.root = self.__balance(self.root)\n",
    "        return self.count\n",
    "        \n",
    "    def add(self, data):\n",
    "        if self.root is None:\n",
    "            self.root = Node(data)\n",
    "        else:\n",
    "            node = self.root\n",
    "            while node is not None:\n",
    "                if data < node.data:\n",
    "                    if node.left is None:\n",
    "                        node.left = Node(data)\n",
    "                        break\n",
    "                    else:\n",
    "                        node = node.left\n",
    "                elif data > node.data:\n",
    "                    if node.right is None:\n",
    "                        node.right = Node(data)\n",
    "                        break\n",
    "                    else:\n",
    "                        node = node.right\n",
    "                else:\n",
    "                    break\n",
    "    # метод который разворачивает дерево, проходя по каждому узлу сложность O(N), \n",
    "    # при этом используется N уровней дерева в рекурсии O(N)\n",
    "    def invert_tree(self):\n",
    "        self.root = self.__invert_tree(self.root)\n",
    "    \n",
    "    def __invert_tree(self, node):\n",
    "        if node is None:\n",
    "            return None\n",
    "        # Меняем местами левого и правого потомков\n",
    "        node.left, node.right = node.right, node.left\n",
    "        # Рекурсивно инвертируем левого и правого потомков\n",
    "        self.__invert_tree(node.left)\n",
    "        self.__invert_tree(node.right)\n",
    "        return node\n",
    "    \n",
    "    def pretty_print(self):\n",
    "        levels = []\n",
    "        self.__get_tree_levels(self.root, 0, levels)\n",
    "        \n",
    "        # Отступ для каждого уровня\n",
    "        for i, level in enumerate(levels):\n",
    "            line = ''\n",
    "            connections = ''\n",
    "            spacing = ' ' * (2 ** (len(levels) - i - 1))  # динамический отступ для каждого уровня\n",
    "            for j, node in enumerate(level):\n",
    "                if node:\n",
    "                    line += f'{node.data}'\n",
    "                else:\n",
    "                    line += ' '  # Печатаем пробел для пустых узлов\n",
    "\n",
    "                if node:\n",
    "                    # Добавляем соединительные линии для правого и левого дочернего узла\n",
    "                    if node.left or node.right:\n",
    "                        if node.left:\n",
    "                            connections += '/' + ' ' * (len(str(node.data)) - 1)\n",
    "\n",
    "                        if node.right:\n",
    "                            connections += '\\\\' + ' ' * (len(str(node.data)) - 1)\n",
    "                    \n",
    "                        connections += ' ' * (2 ** (len(levels) - i - 1))  # для пустых узлов добавляем одинаковые пробелы\n",
    "\n",
    "                if j < len(level) - 1:\n",
    "                    line += ' ' * (2 ** (len(levels) - i - 1))  # Пробел между узлами на одном уровне\n",
    "\n",
    "            # Печатаем уровень и соединительные линии\n",
    "            print(spacing + line)\n",
    "            if i < len(levels) - 1:\n",
    "                print(spacing + connections)\n",
    "\n",
    "    def __get_tree_levels(self, node, depth, levels):\n",
    "        if len(levels) <= depth:\n",
    "            levels.append([])\n",
    "        if node is None:\n",
    "            levels[depth].append(None)\n",
    "        else:\n",
    "            levels[depth].append(node)\n",
    "            self.__get_tree_levels(node.left, depth + 1, levels)\n",
    "            self.__get_tree_levels(node.right, depth + 1, levels)"
   ]
  },
  {
   "cell_type": "code",
   "execution_count": 157,
   "id": "00b0648e-67cc-40a8-ad01-839fb4015041",
   "metadata": {
    "ExecuteTime": {
     "end_time": "2024-11-11T19:21:41.992783Z",
     "start_time": "2024-11-11T19:21:41.981982Z"
    }
   },
   "outputs": [],
   "source": [
    "tree = BinarySearchTree()\n",
    "tree.tree_print()\n"
   ]
  },
  {
   "cell_type": "code",
   "execution_count": 161,
   "id": "f9f0bcfd-64fc-4670-bf33-2598223a8761",
   "metadata": {
    "ExecuteTime": {
     "end_time": "2024-11-11T19:21:50.636468Z",
     "start_time": "2024-11-11T19:21:50.622228Z"
    }
   },
   "outputs": [
    {
     "name": "stdout",
     "output_type": "stream",
     "text": [
      "7\n",
      "left 3\n",
      "right 24\n",
      "----------------------------------------------------------------------------------------------------\n",
      "3\n",
      "left 1\n",
      "right 5\n",
      "----------------------------------------------------------------------------------------------------\n",
      "1\n",
      "left -1\n",
      "right 2\n",
      "----------------------------------------------------------------------------------------------------\n",
      "-1\n",
      "left None\n",
      "right None\n",
      "----------------------------------------------------------------------------------------------------\n",
      "2\n",
      "left None\n",
      "right None\n",
      "----------------------------------------------------------------------------------------------------\n",
      "5\n",
      "left 4\n",
      "right 6\n",
      "----------------------------------------------------------------------------------------------------\n",
      "4\n",
      "left None\n",
      "right None\n",
      "----------------------------------------------------------------------------------------------------\n",
      "6\n",
      "left None\n",
      "right None\n",
      "----------------------------------------------------------------------------------------------------\n",
      "24\n",
      "left None\n",
      "right 58\n",
      "----------------------------------------------------------------------------------------------------\n",
      "58\n",
      "left 44\n",
      "right None\n",
      "----------------------------------------------------------------------------------------------------\n",
      "44\n",
      "left None\n",
      "right None\n",
      "----------------------------------------------------------------------------------------------------\n"
     ]
    }
   ],
   "source": [
    "tree.add(6)\n",
    "tree.tree_print()"
   ]
  },
  {
   "cell_type": "code",
   "execution_count": 162,
   "id": "2428f2e3-2044-404e-aa4a-80d0fd307731",
   "metadata": {
    "ExecuteTime": {
     "end_time": "2024-11-11T19:21:51.153780Z",
     "start_time": "2024-11-11T19:21:51.130111Z"
    }
   },
   "outputs": [
    {
     "name": "stdout",
     "output_type": "stream",
     "text": [
      "7\n",
      "left 3\n",
      "right 24\n",
      "----------------------------------------------------------------------------------------------------\n",
      "3\n",
      "left 1\n",
      "right 5\n",
      "----------------------------------------------------------------------------------------------------\n",
      "1\n",
      "left -1\n",
      "right 2\n",
      "----------------------------------------------------------------------------------------------------\n",
      "-1\n",
      "left None\n",
      "right None\n",
      "----------------------------------------------------------------------------------------------------\n",
      "2\n",
      "left None\n",
      "right None\n",
      "----------------------------------------------------------------------------------------------------\n",
      "5\n",
      "left 4\n",
      "right 6\n",
      "----------------------------------------------------------------------------------------------------\n",
      "4\n",
      "left None\n",
      "right None\n",
      "----------------------------------------------------------------------------------------------------\n",
      "6\n",
      "left None\n",
      "right None\n",
      "----------------------------------------------------------------------------------------------------\n",
      "24\n",
      "left None\n",
      "right 58\n",
      "----------------------------------------------------------------------------------------------------\n",
      "58\n",
      "left 44\n",
      "right None\n",
      "----------------------------------------------------------------------------------------------------\n",
      "44\n",
      "left None\n",
      "right None\n",
      "----------------------------------------------------------------------------------------------------\n"
     ]
    }
   ],
   "source": [
    "import random\n",
    "tree.add(3)\n",
    "tree.add(1)\n",
    "tree.add(2)\n",
    "tree.add(5)\n",
    "tree.add(4)\n",
    "tree.add(7)\n",
    "tree.add(-1)\n",
    "tree.add(24)\n",
    "tree.add(58)\n",
    "tree.add(44)\n",
    "\n",
    "#for i in range(13):\n",
    "#    tree.add(random.randint(0,100))\n",
    "tree.tree_print()"
   ]
  },
  {
   "cell_type": "code",
   "execution_count": 164,
   "outputs": [
    {
     "name": "stdout",
     "output_type": "stream",
     "text": [
      "                7hfbvn\n",
      "                /\\                \n",
      "        3        24hfbvn\n",
      "        /\\        \\         \n",
      "    1    5         58hfbvn\n",
      "    /\\    /\\    /     \n",
      "  -1  2  4  6  44   hfbvn\n",
      "  \n",
      "                    hfbvn\n"
     ]
    }
   ],
   "source": [
    "tree.pretty_print()"
   ],
   "metadata": {
    "collapsed": false,
    "ExecuteTime": {
     "end_time": "2024-11-11T19:22:06.052147Z",
     "start_time": "2024-11-11T19:22:06.000624Z"
    }
   },
   "id": "4becf2404ab1111"
  },
  {
   "cell_type": "code",
   "execution_count": 90,
   "outputs": [
    {
     "name": "stdout",
     "output_type": "stream",
     "text": [
      "                6\n",
      "                /\\\n",
      "        24        3\n",
      "        /  /\\\n",
      "    58         5    1\n",
      "     \\     \\/\\\n",
      "     44     4  2  -1\n",
      "      \n",
      "                \n"
     ]
    }
   ],
   "source": [
    "tree.invert_tree()\n",
    "tree.pretty_print()"
   ],
   "metadata": {
    "collapsed": false,
    "ExecuteTime": {
     "end_time": "2024-11-11T19:03:32.735265Z",
     "start_time": "2024-11-11T19:03:32.706325Z"
    }
   },
   "id": "d71e1a6655064814"
  },
  {
   "cell_type": "code",
   "execution_count": 13,
   "id": "439009d4-047a-4c39-ad81-36e10d63d6df",
   "metadata": {},
   "outputs": [
    {
     "name": "stdout",
     "output_type": "stream",
     "text": [
      "6 \n",
      "2 20 \n",
      "5 8 60 \n",
      "7 27 96 \n",
      "23 53 72 \n",
      "52 54 \n",
      "55 \n",
      "56 \n",
      "0.0003414154052734375\n"
     ]
    }
   ],
   "source": [
    "import time\n",
    "\n",
    "start = time.time()\n",
    "tree.tree_walk_horisontal()\n",
    "print(time.time()-start)"
   ]
  },
  {
   "cell_type": "code",
   "execution_count": 117,
   "id": "55b9fe34-2a0c-435b-9a80-c7bb756a5e1a",
   "metadata": {},
   "outputs": [
    {
     "data": {
      "text/plain": [
       "6"
      ]
     },
     "execution_count": 117,
     "metadata": {},
     "output_type": "execute_result"
    }
   ],
   "source": [
    "tree.height()"
   ]
  },
  {
   "cell_type": "code",
   "execution_count": 118,
   "id": "184e9fc9-3022-4cd0-b89d-f7eab1a3a86d",
   "metadata": {},
   "outputs": [
    {
     "name": "stdout",
     "output_type": "stream",
     "text": [
      "6 \n",
      "20 \n",
      "8 60 \n",
      "7 27 96 \n",
      "23 53 \n",
      "52 \n",
      "0.00035500526428222656\n"
     ]
    }
   ],
   "source": [
    "start = time.time()\n",
    "tree.bfs()\n",
    "print(time.time()-start)"
   ]
  },
  {
   "cell_type": "code",
   "execution_count": 119,
   "id": "5787e94b-9a20-48a6-8557-c88a8d1cb6ce",
   "metadata": {},
   "outputs": [],
   "source": [
    "tree.delete(20)"
   ]
  },
  {
   "cell_type": "code",
   "execution_count": 120,
   "id": "c56f2320-b585-42cb-a337-a7ea8a2c0093",
   "metadata": {},
   "outputs": [
    {
     "name": "stdout",
     "output_type": "stream",
     "text": [
      "6 \n",
      "8 \n",
      "7 60 \n",
      "27 96 \n",
      "23 53 \n",
      "52 \n"
     ]
    }
   ],
   "source": [
    "tree.tree_walk_horisontal()"
   ]
  },
  {
   "cell_type": "code",
   "execution_count": 74,
   "id": "f5b3eac9-e87c-45cf-835e-904f0236c5db",
   "metadata": {},
   "outputs": [
    {
     "name": "stdout",
     "output_type": "stream",
     "text": [
      "10\n",
      "left 8\n",
      "right 11\n",
      "----------------------------------------------------------------------------------------------------\n",
      "8\n",
      "left 7\n",
      "right 9\n",
      "----------------------------------------------------------------------------------------------------\n",
      "7\n",
      "left 5\n",
      "right None\n",
      "----------------------------------------------------------------------------------------------------\n",
      "5\n",
      "left None\n",
      "right None\n",
      "----------------------------------------------------------------------------------------------------\n",
      "9\n",
      "left None\n",
      "right None\n",
      "----------------------------------------------------------------------------------------------------\n",
      "11\n",
      "left None\n",
      "right None\n",
      "----------------------------------------------------------------------------------------------------\n"
     ]
    }
   ],
   "source": [
    "tree = BinarySearchTree()\n",
    "tree.add(10)\n",
    "tree.add(8)\n",
    "tree.add(9)\n",
    "tree.add(7)\n",
    "tree.add(11)\n",
    "tree.add(5)\n",
    "tree.tree_print()"
   ]
  },
  {
   "cell_type": "code",
   "execution_count": 75,
   "id": "9e68aa33-c9e7-49ca-b378-4eaba3b70a0c",
   "metadata": {},
   "outputs": [
    {
     "ename": "AttributeError",
     "evalue": "'BinarySearchTree' object has no attribute 'smallRotation'",
     "output_type": "error",
     "traceback": [
      "\u001B[0;31m---------------------------------------------------------------------------\u001B[0m",
      "\u001B[0;31mAttributeError\u001B[0m                            Traceback (most recent call last)",
      "Cell \u001B[0;32mIn[75], line 1\u001B[0m\n\u001B[0;32m----> 1\u001B[0m \u001B[43mtree\u001B[49m\u001B[38;5;241;43m.\u001B[39;49m\u001B[43mdelete\u001B[49m\u001B[43m(\u001B[49m\u001B[38;5;241;43m7\u001B[39;49m\u001B[43m)\u001B[49m\n",
      "Cell \u001B[0;32mIn[73], line 102\u001B[0m, in \u001B[0;36mBinarySearchTree.delete\u001B[0;34m(self, elem)\u001B[0m\n\u001B[1;32m    100\u001B[0m \u001B[38;5;28;01mif\u001B[39;00m \u001B[38;5;28mself\u001B[39m\u001B[38;5;241m.\u001B[39mroot \u001B[38;5;129;01mis\u001B[39;00m \u001B[38;5;28;01mNone\u001B[39;00m:\n\u001B[1;32m    101\u001B[0m     \u001B[38;5;28;01mreturn\u001B[39;00m\n\u001B[0;32m--> 102\u001B[0m \u001B[38;5;28;43mself\u001B[39;49m\u001B[38;5;241;43m.\u001B[39;49m\u001B[43m__delete\u001B[49m\u001B[43m(\u001B[49m\u001B[38;5;28;43mself\u001B[39;49m\u001B[38;5;241;43m.\u001B[39;49m\u001B[43mroot\u001B[49m\u001B[43m,\u001B[49m\u001B[43m \u001B[49m\u001B[43melem\u001B[49m\u001B[43m)\u001B[49m\n",
      "Cell \u001B[0;32mIn[73], line 95\u001B[0m, in \u001B[0;36mBinarySearchTree.__delete\u001B[0;34m(self, node, elem)\u001B[0m\n\u001B[1;32m     91\u001B[0m             node\u001B[38;5;241m.\u001B[39mright \u001B[38;5;241m=\u001B[39m node\u001B[38;5;241m.\u001B[39mright\u001B[38;5;241m.\u001B[39mleft\n\u001B[1;32m     92\u001B[0m             node\u001B[38;5;241m.\u001B[39mright\u001B[38;5;241m.\u001B[39mright \u001B[38;5;241m=\u001B[39m oldRight\n\u001B[0;32m---> 95\u001B[0m \u001B[38;5;28;43mself\u001B[39;49m\u001B[38;5;241;43m.\u001B[39;49m\u001B[43m__delete\u001B[49m\u001B[43m(\u001B[49m\u001B[43mnode\u001B[49m\u001B[38;5;241;43m.\u001B[39;49m\u001B[43mleft\u001B[49m\u001B[43m,\u001B[49m\u001B[43m \u001B[49m\u001B[43melem\u001B[49m\u001B[43m)\u001B[49m\n\u001B[1;32m     96\u001B[0m \u001B[38;5;28mself\u001B[39m\u001B[38;5;241m.\u001B[39m__delete(node\u001B[38;5;241m.\u001B[39mright, elem)\n",
      "Cell \u001B[0;32mIn[73], line 73\u001B[0m, in \u001B[0;36mBinarySearchTree.__delete\u001B[0;34m(self, node, elem)\u001B[0m\n\u001B[1;32m     71\u001B[0m hlr \u001B[38;5;241m=\u001B[39m \u001B[38;5;28mself\u001B[39m\u001B[38;5;241m.\u001B[39m__height(node\u001B[38;5;241m.\u001B[39mleft\u001B[38;5;241m.\u001B[39mright)\n\u001B[1;32m     72\u001B[0m \u001B[38;5;28;01mif\u001B[39;00m hll \u001B[38;5;241m>\u001B[39m hlr:\n\u001B[0;32m---> 73\u001B[0m     node\u001B[38;5;241m.\u001B[39mleft \u001B[38;5;241m=\u001B[39m \u001B[38;5;28;43mself\u001B[39;49m\u001B[38;5;241;43m.\u001B[39;49m\u001B[43msmallRotation\u001B[49m(node\u001B[38;5;241m.\u001B[39mleft, \u001B[38;5;241m1\u001B[39m)\n\u001B[1;32m     74\u001B[0m     tmp \u001B[38;5;241m=\u001B[39m node\u001B[38;5;241m.\u001B[39mleft\u001B[38;5;241m.\u001B[39mright\n\u001B[1;32m     75\u001B[0m     node\u001B[38;5;241m.\u001B[39mleft\u001B[38;5;241m.\u001B[39mright \u001B[38;5;241m=\u001B[39m node\u001B[38;5;241m.\u001B[39mleft\u001B[38;5;241m.\u001B[39mright\u001B[38;5;241m.\u001B[39mright\n",
      "\u001B[0;31mAttributeError\u001B[0m: 'BinarySearchTree' object has no attribute 'smallRotation'"
     ]
    }
   ],
   "source": [
    "tree.delete(7)"
   ]
  },
  {
   "cell_type": "code",
   "execution_count": 27,
   "id": "b8918236-5bea-4d13-a973-299c6e962f35",
   "metadata": {},
   "outputs": [],
   "source": [
    "tree.root = tree.smallRotate(tree.root, 1)"
   ]
  },
  {
   "cell_type": "code",
   "execution_count": 28,
   "id": "872ae95e-67ab-4750-b2a2-a32a123a8871",
   "metadata": {},
   "outputs": [
    {
     "name": "stdout",
     "output_type": "stream",
     "text": [
      "8\n",
      "left 7\n",
      "right 10\n",
      "----------------------------------------------------------------------------------------------------\n",
      "7\n",
      "left None\n",
      "right None\n",
      "----------------------------------------------------------------------------------------------------\n",
      "10\n",
      "left 9\n",
      "right 11\n",
      "----------------------------------------------------------------------------------------------------\n",
      "9\n",
      "left None\n",
      "right None\n",
      "----------------------------------------------------------------------------------------------------\n",
      "11\n",
      "left None\n",
      "right None\n",
      "----------------------------------------------------------------------------------------------------\n"
     ]
    }
   ],
   "source": [
    "tree.tree_print()"
   ]
  },
  {
   "cell_type": "code",
   "execution_count": 30,
   "id": "2129e0c2-3307-4767-8613-0fb502650bca",
   "metadata": {},
   "outputs": [
    {
     "name": "stdout",
     "output_type": "stream",
     "text": [
      "10\n",
      "left 8\n",
      "right 11\n",
      "----------------------------------------------------------------------------------------------------\n",
      "8\n",
      "left 7\n",
      "right 9\n",
      "----------------------------------------------------------------------------------------------------\n",
      "7\n",
      "left None\n",
      "right None\n",
      "----------------------------------------------------------------------------------------------------\n",
      "9\n",
      "left None\n",
      "right None\n",
      "----------------------------------------------------------------------------------------------------\n",
      "11\n",
      "left None\n",
      "right None\n",
      "----------------------------------------------------------------------------------------------------\n"
     ]
    }
   ],
   "source": [
    "tree.root = tree.smallRotate(tree.root, -1)\n",
    "tree.tree_print()"
   ]
  },
  {
   "cell_type": "code",
   "execution_count": 66,
   "id": "4c88b899-34ec-4b2f-ab0d-ac598528045a",
   "metadata": {},
   "outputs": [
    {
     "data": {
      "text/plain": [
       "370"
      ]
     },
     "execution_count": 66,
     "metadata": {},
     "output_type": "execute_result"
    }
   ],
   "source": [
    "tree.balance()"
   ]
  },
  {
   "cell_type": "code",
   "execution_count": 59,
   "id": "1810d2f6-e902-404f-9427-5d9fa1a07a45",
   "metadata": {},
   "outputs": [
    {
     "name": "stdout",
     "output_type": "stream",
     "text": [
      "53\n",
      "left 6\n",
      "right 60\n",
      "----------------------------------------------------------------------------------------------------\n",
      "6\n",
      "left 2\n",
      "right 20\n",
      "----------------------------------------------------------------------------------------------------\n",
      "2\n",
      "left None\n",
      "right 5\n",
      "----------------------------------------------------------------------------------------------------\n",
      "5\n",
      "left None\n",
      "right None\n",
      "----------------------------------------------------------------------------------------------------\n",
      "20\n",
      "left 8\n",
      "right 27\n",
      "----------------------------------------------------------------------------------------------------\n",
      "8\n",
      "left 7\n",
      "right None\n",
      "----------------------------------------------------------------------------------------------------\n",
      "7\n",
      "left None\n",
      "right None\n",
      "----------------------------------------------------------------------------------------------------\n",
      "27\n",
      "left 23\n",
      "right 52\n",
      "----------------------------------------------------------------------------------------------------\n",
      "23\n",
      "left None\n",
      "right None\n",
      "----------------------------------------------------------------------------------------------------\n",
      "52\n",
      "left None\n",
      "right None\n",
      "----------------------------------------------------------------------------------------------------\n",
      "60\n",
      "left 55\n",
      "right 96\n",
      "----------------------------------------------------------------------------------------------------\n",
      "55\n",
      "left 54\n",
      "right 56\n",
      "----------------------------------------------------------------------------------------------------\n",
      "54\n",
      "left None\n",
      "right None\n",
      "----------------------------------------------------------------------------------------------------\n",
      "56\n",
      "left None\n",
      "right None\n",
      "----------------------------------------------------------------------------------------------------\n",
      "96\n",
      "left 72\n",
      "right None\n",
      "----------------------------------------------------------------------------------------------------\n",
      "72\n",
      "left None\n",
      "right None\n",
      "----------------------------------------------------------------------------------------------------\n"
     ]
    }
   ],
   "source": [
    "tree.tree_print()"
   ]
  },
  {
   "cell_type": "code",
   "execution_count": 60,
   "id": "8be41299-b07a-403a-beff-98d5a7a5398d",
   "metadata": {},
   "outputs": [
    {
     "name": "stdout",
     "output_type": "stream",
     "text": [
      "5\n",
      "left 4\n",
      "right 6\n",
      "----------------------------------------------------------------------------------------------------\n",
      "4\n",
      "left 3\n",
      "right None\n",
      "----------------------------------------------------------------------------------------------------\n",
      "3\n",
      "left 2\n",
      "right None\n",
      "----------------------------------------------------------------------------------------------------\n",
      "2\n",
      "left None\n",
      "right None\n",
      "----------------------------------------------------------------------------------------------------\n",
      "6\n",
      "left None\n",
      "right 7\n",
      "----------------------------------------------------------------------------------------------------\n",
      "7\n",
      "left None\n",
      "right 8\n",
      "----------------------------------------------------------------------------------------------------\n",
      "8\n",
      "left None\n",
      "right 9\n",
      "----------------------------------------------------------------------------------------------------\n",
      "9\n",
      "left None\n",
      "right None\n",
      "----------------------------------------------------------------------------------------------------\n"
     ]
    }
   ],
   "source": [
    "tree = BinarySearchTree()\n",
    "tree.add(5)\n",
    "tree.add(4)\n",
    "tree.add(3)\n",
    "tree.add(2)\n",
    "tree.add(6)\n",
    "tree.add(7)\n",
    "tree.add(8)\n",
    "tree.add(9)\n",
    "tree.tree_print()"
   ]
  },
  {
   "cell_type": "code",
   "execution_count": 61,
   "id": "75fae0e6-ea4f-436a-85a8-b58021a5d9db",
   "metadata": {},
   "outputs": [
    {
     "name": "stdout",
     "output_type": "stream",
     "text": [
      "5\n",
      "left 3\n",
      "right 8\n",
      "----------------------------------------------------------------------------------------------------\n",
      "3\n",
      "left 2\n",
      "right 4\n",
      "----------------------------------------------------------------------------------------------------\n",
      "2\n",
      "left None\n",
      "right None\n",
      "----------------------------------------------------------------------------------------------------\n",
      "4\n",
      "left None\n",
      "right None\n",
      "----------------------------------------------------------------------------------------------------\n",
      "8\n",
      "left 6\n",
      "right 9\n",
      "----------------------------------------------------------------------------------------------------\n",
      "6\n",
      "left None\n",
      "right 7\n",
      "----------------------------------------------------------------------------------------------------\n",
      "7\n",
      "left None\n",
      "right None\n",
      "----------------------------------------------------------------------------------------------------\n",
      "9\n",
      "left None\n",
      "right None\n",
      "----------------------------------------------------------------------------------------------------\n"
     ]
    }
   ],
   "source": [
    "tree.balance()\n",
    "tree.tree_print()"
   ]
  },
  {
   "cell_type": "code",
   "execution_count": 68,
   "id": "c14c69bc-ba10-487b-b9cf-38915736ad39",
   "metadata": {},
   "outputs": [],
   "source": [
    "sizes = [10, 100, 300, 700, 1000]\n",
    "cs = []\n",
    "for size in sizes:\n",
    "    tree = BinarySearchTree()\n",
    "    for _ in range(size):\n",
    "        tree.add(random.randint(0, size*100))\n",
    "    cs.append(tree.balance())"
   ]
  },
  {
   "cell_type": "code",
   "execution_count": 69,
   "id": "4e85a368-c9b4-4bf2-bf2c-91482ca445f2",
   "metadata": {},
   "outputs": [
    {
     "data": {
      "text/plain": [
       "[<matplotlib.lines.Line2D at 0x7f1b21503520>]"
      ]
     },
     "execution_count": 69,
     "metadata": {},
     "output_type": "execute_result"
    },
    {
     "data": {
      "image/png": "[encoded data removed]",
      "text/plain": [
       "<Figure size 640x480 with 1 Axes>"
      ]
     },
     "metadata": {},
     "output_type": "display_data"
    }
   ],
   "source": [
    "from matplotlib import pyplot as plt\n",
    "\n",
    "plt.plot(sizes, cs)"
   ]
  },
  {
   "cell_type": "code",
   "execution_count": null,
   "id": "cecbb9bd-08ae-4fb4-a62f-8944dd5c8d8a",
   "metadata": {},
   "outputs": [],
   "source": []
  }
 ],
 "metadata": {
  "kernelspec": {
   "display_name": "Python 3 (ipykernel)",
   "language": "python",
   "name": "python3"
  },
  "language_info": {
   "codemirror_mode": {
    "name": "ipython",
    "version": 3
   },
   "file_extension": ".py",
   "mimetype": "text/x-python",
   "name": "python",
   "nbconvert_exporter": "python",
   "pygments_lexer": "ipython3",
   "version": "3.10.12"
  }
 },
 "nbformat": 4,
 "nbformat_minor": 5
}
