{
 "cells": [
  {
   "cell_type": "code",
   "execution_count": 1,
   "outputs": [],
   "source": [
    "class RedBlackTreeMap:\n",
    "    class Node:\n",
    "        def __init__(self, key, value, color='red', parent=None, left=None, right=None):\n",
    "            self.key = key\n",
    "            self.value = value\n",
    "            self.color = color  # 'red' or 'black'\n",
    "            self.parent = parent\n",
    "            self.left = left\n",
    "            self.right = right\n",
    "\n",
    "    def __init__(self):\n",
    "        self.nil = self.Node(key=None, value=None, color='black')  # NIL узел (пустой)\n",
    "        self.root = self.nil\n",
    "\n",
    "    def insert(self, key, value):\n",
    "        new_node = self.Node(key, value, parent=None, left=self.nil, right=self.nil)\n",
    "        parent = None\n",
    "        current = self.root\n",
    "\n",
    "        # Обычная вставка в бинарное дерево поиска\n",
    "        while current != self.nil:\n",
    "            parent = current\n",
    "            if key < current.key:\n",
    "                current = current.left\n",
    "            elif key > current.key:\n",
    "                current = current.right\n",
    "            else:  # Если ключ уже существует, обновляем значение\n",
    "                current.value = value\n",
    "                return\n",
    "\n",
    "        new_node.parent = parent\n",
    "        if parent is None:  # Дерево пусто\n",
    "            self.root = new_node\n",
    "        elif key < parent.key:\n",
    "            parent.left = new_node\n",
    "        else:\n",
    "            parent.right = new_node\n",
    "\n",
    "        # Узел должен быть красным\n",
    "        new_node.color = 'red'\n",
    "\n",
    "        # Выполнение балансировки после вставки\n",
    "        self._balance_insert(new_node)\n",
    "\n",
    "    def get(self, key):\n",
    "        node = self._search(self.root, key)\n",
    "        if node is not None:\n",
    "            return node.value\n",
    "        raise KeyError(f\"Key {key} not found in the tree.\")\n",
    "\n",
    "    def _search(self, node, key):\n",
    "        while node != self.nil and node.key != key:\n",
    "            if key < node.key:\n",
    "                node = node.left\n",
    "            else:\n",
    "                node = node.right\n",
    "        return node if node != self.nil else None\n",
    "\n",
    "    def _balance_insert(self, node):\n",
    "        while node != self.root and node.parent.color == 'red':\n",
    "            if node.parent == node.parent.parent.left:  # Родитель — левый ребенок\n",
    "                uncle = node.parent.parent.right\n",
    "                if uncle.color == 'red':  # Случай 1: Дядя красный\n",
    "                    node.parent.color = 'black'\n",
    "                    uncle.color = 'black'\n",
    "                    node.parent.parent.color = 'red'\n",
    "                    node = node.parent.parent\n",
    "                else:\n",
    "                    if node == node.parent.right:  # Случай 2: Узел — правый ребенок\n",
    "                        node = node.parent\n",
    "                        self._rotate_left(node)\n",
    "                    # Случай 3: Узел — левый ребенок\n",
    "                    node.parent.color = 'black'\n",
    "                    node.parent.parent.color = 'red'\n",
    "                    self._rotate_right(node.parent.parent)\n",
    "            else:  # Родитель — правый ребенок\n",
    "                uncle = node.parent.parent.left\n",
    "                if uncle.color == 'red':  # Случай 1: Дядя красный\n",
    "                    node.parent.color = 'black'\n",
    "                    uncle.color = 'black'\n",
    "                    node.parent.parent.color = 'red'\n",
    "                    node = node.parent.parent\n",
    "                else:\n",
    "                    if node == node.parent.left:  # Случай 2: Узел — левый ребенок\n",
    "                        node = node.parent\n",
    "                        self._rotate_right(node)\n",
    "                    # Случай 3: Узел — правый ребенок\n",
    "                    node.parent.color = 'black'\n",
    "                    node.parent.parent.color = 'red'\n",
    "                    self._rotate_left(node.parent.parent)\n",
    "\n",
    "        self.root.color = 'black'\n",
    "\n",
    "    def _rotate_left(self, node):\n",
    "        y = node.right\n",
    "        node.right = y.left\n",
    "        if y.left != self.nil:\n",
    "            y.left.parent = node\n",
    "        y.parent = node.parent\n",
    "        if node.parent is None:\n",
    "            self.root = y\n",
    "        elif node == node.parent.left:\n",
    "            node.parent.left = y\n",
    "        else:\n",
    "            node.parent.right = y\n",
    "        y.left = node\n",
    "        node.parent = y\n",
    "\n",
    "    def _rotate_right(self, node):\n",
    "        y = node.left\n",
    "        node.left = y.right\n",
    "        if y.right != self.nil:\n",
    "            y.right.parent = node\n",
    "        y.parent = node.parent\n",
    "        if node.parent is None:\n",
    "            self.root = y\n",
    "        elif node == node.parent.right:\n",
    "            node.parent.right = y\n",
    "        else:\n",
    "            node.parent.left = y\n",
    "        y.right = node\n",
    "        node.parent = y\n",
    "\n",
    "    def inorder_traversal(self, node=None):\n",
    "        if node is None:\n",
    "            node = self.root\n",
    "        if node != self.nil:\n",
    "            self.inorder_traversal(node.left)\n",
    "            print(f\"{node.key}: {node.value} ({node.color})\", end=\" \")\n",
    "            self.inorder_traversal(node.right)\n",
    "\n",
    "    def print_tree(self, node=None, level=0, prefix=\"Root: \"):\n",
    "        if node is None:\n",
    "            node = self.root\n",
    "        if node != self.nil:\n",
    "            print(\" \" * (level * 4) + prefix + f\"{node.key} ({node.value}) ({node.color})\")\n",
    "            self.print_tree(node.left, level + 1, \"L--- \")\n",
    "            self.print_tree(node.right, level + 1, \"R--- \")\n"
   ],
   "metadata": {
    "collapsed": false,
    "ExecuteTime": {
     "end_time": "2024-11-21T15:53:10.501249Z",
     "start_time": "2024-11-21T15:53:10.488424Z"
    }
   },
   "id": "cb551a876b5a8369"
  },
  {
   "cell_type": "code",
   "execution_count": 2,
   "outputs": [],
   "source": [
    "tree = RedBlackTreeMap()\n",
    "# Вставка элементов\n",
    "elements = [(20, \"A\"), (15, \"B\"), (25, \"C\"), (10, \"D\"), (5, \"E\"), (30, \"F\")]\n",
    "for key, value in elements:\n",
    "    tree.insert(key, value)"
   ],
   "metadata": {
    "collapsed": false,
    "ExecuteTime": {
     "end_time": "2024-11-21T15:53:11.227125Z",
     "start_time": "2024-11-21T15:53:11.205449Z"
    }
   },
   "id": "649fe8f99e0dd2c1"
  },
  {
   "cell_type": "code",
   "execution_count": 6,
   "outputs": [
    {
     "name": "stdout",
     "output_type": "stream",
     "text": [
      "Root: 20 (A) (black)\n",
      "    L--- 10 (D) (black)\n",
      "        L--- 5 (E) (red)\n",
      "        R--- 15 (B) (red)\n",
      "    R--- 25 (C) (black)\n",
      "        R--- 30 (F) (red)\n"
     ]
    }
   ],
   "source": [
    "tree.print_tree()"
   ],
   "metadata": {
    "collapsed": false,
    "ExecuteTime": {
     "end_time": "2024-11-19T19:45:58.567269Z",
     "start_time": "2024-11-19T19:45:58.539861Z"
    }
   },
   "id": "8a76864864b6d122"
  },
  {
   "cell_type": "code",
   "execution_count": null,
   "outputs": [],
   "source": [
    "Сложность алгоритмов: Вставка: Вставка занимает 𝑂 ( log ⁡ 𝑛 ) O(logn), так как высота дерева 𝑂 ( log ⁡ 𝑛 ) O(logn). Балансировка также 𝑂 ( log ⁡ 𝑛 ) O(logn), так как включает перекраски и до 2 ротаций. Поиск (get): Поиск ключа выполняется за 𝑂 ( log ⁡ 𝑛 ) O(logn). Пространственная сложность: Каждый узел хранит: Ключ — 𝑂 ( размер ключа ) O(размер ключа). Значение — 𝑂 ( размер значения ) O(размер значения). Метаданные узла: цвет, ссылки на родителя, левого и правого ребенка ( 𝑂 ( константа ) O(константа)). Для 𝑛 n узлов дерево занимает 𝑂 ( 𝑛 ) O(n)."
   ],
   "metadata": {
    "collapsed": false
   },
   "id": "96545e6d57ea0111"
  }
 ],
 "metadata": {
  "kernelspec": {
   "display_name": "Python 3",
   "language": "python",
   "name": "python3"
  },
  "language_info": {
   "codemirror_mode": {
    "name": "ipython",
    "version": 2
   },
   "file_extension": ".py",
   "mimetype": "text/x-python",
   "name": "python",
   "nbconvert_exporter": "python",
   "pygments_lexer": "ipython2",
   "version": "2.7.6"
  }
 },
 "nbformat": 4,
 "nbformat_minor": 5
}
