{
 "cells": [
  {
   "cell_type": "code",
   "execution_count": 1,
   "id": "initial_id",
   "metadata": {
    "collapsed": true,
    "ExecuteTime": {
     "end_time": "2024-11-21T15:44:12.184811Z",
     "start_time": "2024-11-21T15:44:12.068579Z"
    }
   },
   "outputs": [],
   "source": [
    "import numpy as np\n",
    "\n",
    "class HungarianAlgorithm:\n",
    "    def __init__(self, cost_matrix):\n",
    "        self.cost_matrix = np.array(cost_matrix)\n",
    "        self.n, self.m = self.cost_matrix.shape\n",
    "        self.max_dim = max(self.n, self.m)\n",
    "        # Приведение к квадратной матрице, если это не так\n",
    "        self.cost_matrix = np.pad(self.cost_matrix, ((0, self.max_dim - self.n), (0, self.max_dim - self.m)), mode='constant', constant_values=0)\n",
    "        self.n = self.max_dim\n",
    "\n",
    "    def _reduce_matrix(self):\n",
    "        \"\"\"Вычитание минимального элемента из каждой строки и каждого столбца.\"\"\"\n",
    "        for i in range(self.n):\n",
    "            self.cost_matrix[i] -= np.min(self.cost_matrix[i])\n",
    "        for j in range(self.n):\n",
    "            self.cost_matrix[:, j] -= np.min(self.cost_matrix[:, j])\n",
    "\n",
    "    def _find_zeros(self):\n",
    "        \"\"\"Находит все нули в текущей матрице.\"\"\"\n",
    "        return np.where(self.cost_matrix == 0)\n",
    "\n",
    "    def _cover_zeros(self):\n",
    "        \"\"\"Покрытие минимальным количеством строк и столбцов.\"\"\"\n",
    "        covered_rows = np.zeros(self.n, dtype=bool)\n",
    "        covered_cols = np.zeros(self.n, dtype=bool)\n",
    "        zero_locations = self._find_zeros()\n",
    "\n",
    "        row_mark = np.zeros(self.n, dtype=bool)\n",
    "        col_mark = np.zeros(self.n, dtype=bool)\n",
    "\n",
    "        for r, c in zip(*zero_locations):\n",
    "            if not row_mark[r] and not col_mark[c]:\n",
    "                row_mark[r] = True\n",
    "                col_mark[c] = True\n",
    "\n",
    "        for r in range(self.n):\n",
    "            if not row_mark[r]:\n",
    "                covered_rows[r] = True\n",
    "\n",
    "        # Покрываем столбцы, содержащие отмеченные строки\n",
    "        while True:\n",
    "            old_cols = covered_cols.copy()\n",
    "            for r in range(self.n):\n",
    "                if covered_rows[r]:\n",
    "                    for c in range(self.n):\n",
    "                        if self.cost_matrix[r, c] == 0:\n",
    "                            covered_cols[c] = True\n",
    "            for c in range(self.n):\n",
    "                if covered_cols[c]:\n",
    "                    for r in range(self.n):\n",
    "                        if self.cost_matrix[r, c] == 0:\n",
    "                            covered_rows[r] = True\n",
    "            if np.array_equal(old_cols, covered_cols):\n",
    "                break\n",
    "\n",
    "        return covered_rows, covered_cols\n",
    "\n",
    "    def _adjust_matrix(self, row_covered, col_covered):\n",
    "        \"\"\"Корректировка значений матрицы.\"\"\"\n",
    "        uncovered_values = self.cost_matrix[~row_covered][:, ~col_covered]\n",
    "        min_val = np.min(uncovered_values)\n",
    "        # Вычитаем минимальное значение из всех непокрытых элементов\n",
    "        self.cost_matrix[~row_covered, :] -= min_val\n",
    "        # Добавляем минимальное значение к элементам в пересечениях покрытых строк и столбцов\n",
    "        self.cost_matrix[:, col_covered] += min_val\n",
    "\n",
    "    def solve(self):\n",
    "        self._reduce_matrix()\n",
    "\n",
    "        while True:\n",
    "            row_covered, col_covered = self._cover_zeros()\n",
    "            covered_count = np.sum(row_covered) + np.sum(col_covered)\n",
    "            if covered_count >= self.n:\n",
    "                break\n",
    "            self._adjust_matrix(row_covered, col_covered)\n",
    "\n",
    "        result = []\n",
    "        zero_locations = self._find_zeros()\n",
    "        used_rows = set()\n",
    "        used_cols = set()\n",
    "        for r, c in zip(*zero_locations):\n",
    "            if r not in used_rows and c not in used_cols:\n",
    "                result.append((r, c))\n",
    "                used_rows.add(r)\n",
    "                used_cols.add(c)\n",
    "\n",
    "        return [(r, c, self.cost_matrix[r, c]) for r, c in result]\n"
   ]
  },
  {
   "cell_type": "code",
   "execution_count": null,
   "outputs": [],
   "source": [
    "cost_matrix = [\n",
    "    [4, 2, 8],\n",
    "    [2, 4, 6],\n",
    "    [8, 6, 4]\n",
    "]\n",
    "\n",
    "hungarian = HungarianAlgorithm(cost_matrix)\n",
    "assignments = hungarian.solve()\n",
    "\n",
    "print(\"Оптимальные назначения (строка, столбец, стоимость):\")\n",
    "for row, col, cost in assignments:\n",
    "    print(f\"Задача {row} назначена работнику {col} с стоимостью {cost}\")"
   ],
   "metadata": {
    "collapsed": false,
    "is_executing": true,
    "ExecuteTime": {
     "start_time": "2024-11-21T15:44:12.999894Z"
    }
   },
   "id": "f42ff86978a31512"
  },
  {
   "cell_type": "code",
   "execution_count": null,
   "outputs": [],
   "source": [
    "Описание методов: _reduce_matrix: Вычитает минимальный элемент из каждой строки и каждого столбца. Гарантирует, что в каждой строке и столбце есть хотя бы один 0. _cover_zeros: Находит минимальное количество строк и столбцов, покрывающих все нули. _adjust_matrix: Модифицирует матрицу, если количество покрытий меньше 𝑛 n. solve: Основной метод. Находит оптимальное назначение с минимальной стоимостью."
   ],
   "metadata": {
    "collapsed": false,
    "ExecuteTime": {
     "end_time": "2024-11-21T15:43:11.271241Z",
     "start_time": "2024-11-21T15:43:11.270733Z"
    }
   },
   "id": "3ff0477ad6b27e1d"
  },
  {
   "cell_type": "code",
   "execution_count": null,
   "outputs": [],
   "source": [
    "Сложность алгоритма: Основные этапы: Уменьшение матрицы — 𝑂 ( 𝑛 2 ) O(n 2 ), так как требуется обойти каждый элемент. Покрытие строками и столбцами — 𝑂 ( 𝑛 2 ) O(n 2 ) для поиска пересечений. Корректировка матрицы — 𝑂 ( 𝑛 2 ) O(n 2 ). Итерации продолжаются максимум 𝑛 n раз. Общая временная сложность: 𝑂 ( 𝑛 3 ) O(n 3 )."
   ],
   "metadata": {
    "collapsed": false
   },
   "id": "4b31f415348ca13e"
  },
  {
   "cell_type": "code",
   "execution_count": null,
   "outputs": [],
   "source": [
    "Пространственная сложность: Матрица затрат: Хранится квадратная матрица размером 𝑛 × 𝑛 n×n, что занимает 𝑂 ( 𝑛 2 ) O(n 2 ) памяти. Вспомогательные массивы: Покрытие строк и столбцов требует два булевых массива длины 𝑛 n, то есть 𝑂 ( 𝑛 ) O(n). Общая пространственная сложность: 𝑂 ( 𝑛 2 ) O(n 2 )."
   ],
   "metadata": {
    "collapsed": false
   },
   "id": "a6fc57207a22baa8"
  }
 ],
 "metadata": {
  "kernelspec": {
   "display_name": "Python 3",
   "language": "python",
   "name": "python3"
  },
  "language_info": {
   "codemirror_mode": {
    "name": "ipython",
    "version": 2
   },
   "file_extension": ".py",
   "mimetype": "text/x-python",
   "name": "python",
   "nbconvert_exporter": "python",
   "pygments_lexer": "ipython2",
   "version": "2.7.6"
  }
 },
 "nbformat": 4,
 "nbformat_minor": 5
}
