{
 "cells": [
  {
   "cell_type": "code",
   "execution_count": 1,
   "id": "1381fc52-5c0e-4f31-9921-8cdeee410663",
   "metadata": {},
   "outputs": [
    {
     "name": "stdout",
     "output_type": "stream",
     "text": [
      "[[0, 1, 1, 0, 0, 0, 0, 1, 0, 0], [1, 0, 1, 1, 0, 0, 0, 0, 0, 0], [1, 1, 0, 0, 0, 0, 0, 0, 0, 0], [0, 1, 0, 0, 1, 0, 0, 0, 0, 0], [0, 0, 0, 1, 0, 1, 0, 0, 0, 0], [0, 0, 0, 0, 1, 0, 0, 1, 0, 0], [0, 0, 0, 0, 0, 0, 0, 1, 0, 0], [1, 0, 0, 0, 0, 1, 1, 0, 1, 1], [0, 0, 0, 0, 0, 0, 0, 1, 0, 0], [0, 0, 0, 0, 0, 0, 0, 1, 0, 0]]\n"
     ]
    }
   ],
   "source": [
    "mat = [[0 for i in range(10)]for i in range(10)]\n",
    "for i,j in [(0,1),(0,2),(0,7),(1,2),(1,3),(3,4),(4,5),(5,7),(6,7),(7,8),(7,9)]:\n",
    "    mat[i][j] = 1\n",
    "    mat[j][i] = 1\n",
    "print(mat)\n"
   ]
  },
  {
   "cell_type": "code",
   "execution_count": 2,
   "id": "136fa960-8573-47b4-a468-d4ac7aea1db4",
   "metadata": {},
   "outputs": [
    {
     "name": "stdout",
     "output_type": "stream",
     "text": [
      "0\n",
      "7\n",
      "9\n",
      "8\n",
      "6\n",
      "5\n",
      "4\n",
      "3\n",
      "2\n",
      "1\n"
     ]
    }
   ],
   "source": [
    "class Queue:\n",
    "    def __init__(self):\n",
    "        self.container = []\n",
    "\n",
    "    def add(self, value) -> None:\n",
    "        self.container.append(value)\n",
    "\n",
    "    def pop(self) -> int:\n",
    "        el = self.container[0]\n",
    "        self.container = self.container[1:]\n",
    "        return el\n",
    "\n",
    "    def is_empty(self):\n",
    "        return len(self.container) == 0\n",
    "\n",
    "\n",
    "def BFS (matrix, start_node: int = 0, my_queue: Queue = Queue(), node_list = []):\n",
    "    if len(node_list) == 0: \n",
    "        node_list.append(start_node)\n",
    "        print(start_node)\n",
    "        \n",
    "    for i, data in enumerate(matrix[start_node]):\n",
    "        if not i in node_list and data != 0:\n",
    "            my_queue.add(i) \n",
    "            node_list.append(i)\n",
    "            \n",
    "\n",
    "    el = my_queue.pop()\n",
    "    print(el)\n",
    "    \n",
    "    if my_queue.is_empty(): \n",
    "        return\n",
    "        \n",
    "    BFS(matrix, el, my_queue, node_list)\n",
    "\n",
    "    \n",
    "# class Node:\n",
    "#     def __init__(self, value):\n",
    "#         self.value = value\n",
    "#         self.is_visited = False\n",
    "\n",
    "\n",
    "\n",
    "class Stack:\n",
    "    def __init__(self):\n",
    "        self.container = []\n",
    "\n",
    "    def add(self, value) -> None:\n",
    "        self.container.append(value)\n",
    "\n",
    "    def pop(self) -> int:\n",
    "        el = self.container[-1]\n",
    "        self.container = self.container[0:-1]\n",
    "        return el\n",
    "\n",
    "    def is_empty(self):\n",
    "        return len(self.container) == 0\n",
    "\n",
    "def DFS (matrix, start_node: int = 0, my_stack: Stack = Stack(), node_list = []):\n",
    "    if len(node_list) == 0: \n",
    "        node_list.append(start_node)\n",
    "        print(start_node)\n",
    "        \n",
    "    for i, data in enumerate(matrix[start_node]):\n",
    "        if not i in node_list and data != 0:\n",
    "            my_stack.add(i) \n",
    "            node_list.append(i)\n",
    "\n",
    "    el = my_stack.pop()\n",
    "    print(el)\n",
    "    \n",
    "    if my_stack.is_empty(): \n",
    "        return\n",
    "        \n",
    "    DFS(matrix, el, my_stack, node_list)\n",
    "        \n",
    "#BFS(mat)\n",
    "DFS(mat)"
   ]
  },
  {
   "cell_type": "code",
   "execution_count": 3,
   "id": "6dddf65f-d6aa-4264-b999-fae6617b344c",
   "metadata": {},
   "outputs": [
    {
     "data": {
      "text/plain": [
       "15"
      ]
     },
     "execution_count": 3,
     "metadata": {},
     "output_type": "execute_result"
    }
   ],
   "source": [
    "import random\n",
    "\n",
    "random.randint(1, 15)\n"
   ]
  },
  {
   "cell_type": "code",
   "execution_count": 4,
   "id": "3a67f483-4751-444c-8264-1e93dff18996",
   "metadata": {},
   "outputs": [
    {
     "name": "stdout",
     "output_type": "stream",
     "text": [
      "(0, 1)\n",
      "(0, 2)\n",
      "(0, 7)\n",
      "[0]\n",
      "(1, 2)\n",
      "(1, 3)\n",
      "[0, 0]\n",
      "(2, 1)\n",
      "[0, 0, 1]\n",
      "(7, 5)\n",
      "(7, 6)\n",
      "(7, 8)\n",
      "(7, 9)\n",
      "[0, 0, 1, 2]\n",
      "[0, 0, 1, 2, 7]\n",
      "(3, 4)\n",
      "[0, 0, 1, 2, 7, 2]\n",
      "(1, 3)\n",
      "[0, 0, 1, 2, 7, 2, 3]\n",
      "(5, 4)\n",
      "[0, 0, 1, 2, 7, 2, 3, 1]\n",
      "[0, 0, 1, 2, 7, 2, 3, 1, 5]\n",
      "[0, 0, 1, 2, 7, 2, 3, 1, 5, 6]\n",
      "[0, 0, 1, 2, 7, 2, 3, 1, 5, 6, 8]\n",
      "[0, 0, 1, 2, 7, 2, 3, 1, 5, 6, 8, 9]\n",
      "(3, 4)\n",
      "[0, 0, 1, 2, 7, 2, 3, 1, 5, 6, 8, 9, 4]\n",
      "[0, 0, 1, 2, 7, 2, 3, 1, 5, 6, 8, 9, 4, 3]\n",
      "[0, 0, 1, 2, 7, 2, 3, 1, 5, 6, 8, 9, 4, 3, 4]\n"
     ]
    },
    {
     "data": {
      "text/plain": [
       "[0, 1, 1, 2, 3, 2, 2, 1, 2, 2]"
      ]
     },
     "execution_count": 4,
     "metadata": {},
     "output_type": "execute_result"
    }
   ],
   "source": [
    "import sys\n",
    "def Dejkstra (mat, versh): \n",
    "    rast = [sys.maxsize]*len(mat)\n",
    "    och = Queue()\n",
    "    posesch = []\n",
    "    och.add((None,versh)) #пара вершин откуда-куда\n",
    "    prev = versh\n",
    "    while not och.is_empty(): \n",
    "        zapis = och.pop() \n",
    "        if zapis[0] is not None:\n",
    "            r = rast[zapis[0]] + mat[zapis[0]][zapis[1]]\n",
    "            if r < rast[zapis[1]]:\n",
    "                rast[zapis[1]] = r\n",
    "        else: \n",
    "            rast[zapis[1]] = 0\n",
    "        for num,i in enumerate (mat[zapis[1]]): \n",
    "            if i!=0 and num not in posesch:\n",
    "                och.add((zapis[1], num))\n",
    "                print((zapis[1], num))\n",
    "        posesch.append(prev) #куда пришли\n",
    "        print(posesch)\n",
    "        prev = zapis[1]\n",
    "    return rast\n",
    "Dejkstra(mat,0)"
   ]
  },
  {
   "cell_type": "code",
   "execution_count": 5,
   "id": "96d57357-fcad-4c98-afc9-0325b541f4c2",
   "metadata": {},
   "outputs": [
    {
     "name": "stdout",
     "output_type": "stream",
     "text": [
      "[[0, 2, -3, 0, 0, 0, 0, 1, 0, 0], [2, 0, 3, 2, 0, 0, 0, 0, 0, 0], [-3, 3, 0, 0, 0, 0, 0, 0, 0, 0], [0, 2, 0, 0, -4, 0, 0, 0, 0, 0], [0, 0, 0, -4, 0, 1, 0, 0, 0, 0], [0, 0, 0, 0, 1, 0, 0, 2, 0, 0], [0, 0, 0, 0, 0, 0, 0, 3, 0, 0], [1, 0, 0, 0, 0, 2, 3, 0, 8, 2], [0, 0, 0, 0, 0, 0, 0, 8, 0, 0], [0, 0, 0, 0, 0, 0, 0, 2, 0, 0]]\n"
     ]
    }
   ],
   "source": [
    "mat = [[0 for i in range(10)]for i in range(10)]\n",
    "for i,j,k in [(0,1,2),(0,2, -3),(0,7,1),(1,2, 3),(1,3, 2),(3,4, -4),(4,5, 1),\n",
    "              (5,7, 2),(6,7, 3),(7,8, 8),(7,9, 2)]:\n",
    "    mat[i][j] = k\n",
    "    mat[j][i] = k\n",
    "print(mat)"
   ]
  },
  {
   "cell_type": "code",
   "execution_count": 6,
   "id": "3f65c4bf-e2b7-4184-a458-13962bf7ff27",
   "metadata": {},
   "outputs": [
    {
     "name": "stdout",
     "output_type": "stream",
     "text": [
      "(0, 1)\n",
      "(0, 2)\n",
      "(0, 7)\n",
      "[0]\n",
      "(1, 2)\n",
      "(1, 3)\n",
      "[0, 0]\n",
      "(2, 1)\n",
      "[0, 0, 1]\n",
      "(7, 5)\n",
      "(7, 6)\n",
      "(7, 8)\n",
      "(7, 9)\n",
      "[0, 0, 1, 2]\n",
      "[0, 0, 1, 2, 7]\n",
      "(3, 4)\n",
      "[0, 0, 1, 2, 7, 2]\n",
      "(1, 3)\n",
      "[0, 0, 1, 2, 7, 2, 3]\n",
      "(5, 4)\n",
      "[0, 0, 1, 2, 7, 2, 3, 1]\n",
      "[0, 0, 1, 2, 7, 2, 3, 1, 5]\n",
      "[0, 0, 1, 2, 7, 2, 3, 1, 5, 6]\n",
      "[0, 0, 1, 2, 7, 2, 3, 1, 5, 6, 8]\n",
      "[0, 0, 1, 2, 7, 2, 3, 1, 5, 6, 8, 9]\n",
      "(3, 4)\n",
      "[0, 0, 1, 2, 7, 2, 3, 1, 5, 6, 8, 9, 4]\n",
      "[0, 0, 1, 2, 7, 2, 3, 1, 5, 6, 8, 9, 4, 3]\n",
      "[0, 0, 1, 2, 7, 2, 3, 1, 5, 6, 8, 9, 4, 3, 4]\n"
     ]
    },
    {
     "data": {
      "text/plain": [
       "[0, 0, -3, 2, -2, 3, 4, 1, 9, 3]"
      ]
     },
     "execution_count": 6,
     "metadata": {},
     "output_type": "execute_result"
    }
   ],
   "source": [
    "Dejkstra(mat,0)"
   ]
  },
  {
   "cell_type": "code",
   "execution_count": 7,
   "id": "b50fd68f-dd7c-455c-9ad7-d506c1dc401d",
   "metadata": {},
   "outputs": [
    {
     "name": "stdout",
     "output_type": "stream",
     "text": [
      "0 7 3 0 0 0 0 6 0 0 \n",
      "7 0 8 7 0 0 0 0 0 0 \n",
      "3 8 0 0 0 0 0 0 0 0 \n",
      "0 7 0 0 1 0 0 0 0 0 \n",
      "0 0 0 1 0 6 0 0 0 0 \n",
      "0 0 0 0 6 0 0 7 0 0 \n",
      "0 0 0 0 0 0 0 8 0 0 \n",
      "6 0 0 0 0 7 8 0 13 7 \n",
      "0 0 0 0 0 0 0 13 0 0 \n",
      "0 0 0 0 0 0 0 7 0 0 \n"
     ]
    }
   ],
   "source": [
    "mat = [[0 for i in range(10)]for i in range(10)]\n",
    "min_weight = sys.maxsize\n",
    "for i,j,k in [(0,1,2),(0,2, -2),(0,7,1),(1,2, 3),(1,3, 2),(3,4, -4),(4,5, 1),\n",
    "              (5,7, 2),(6,7, 3),(7,8, 8),(7,9, 2)]:\n",
    "    mat[i][j] = k\n",
    "    mat[j][i] = k\n",
    "    if k < min_weight:\n",
    "        min_weight = k\n",
    "\n",
    "for i in range(len(mat)):\n",
    "    for j in range(len(mat[i])):\n",
    "        if mat[i][j] != 0:\n",
    "            mat[i][j] += abs(min_weight) + 1\n",
    "        print(mat[i][j], end=' ')\n",
    "    print()\n",
    "\n"
   ]
  },
  {
   "cell_type": "code",
   "execution_count": 8,
   "id": "8ce5217d-e3cd-4163-8d1b-ff8370ecbe9d",
   "metadata": {},
   "outputs": [
    {
     "name": "stdout",
     "output_type": "stream",
     "text": [
      "(0, 1) 0 9223372036854775807 2\n",
      "changed rast\n",
      "(0, 2) 0 9223372036854775807 -2\n",
      "changed rast\n",
      "(0, 7) 0 9223372036854775807 1\n",
      "changed rast\n",
      "(1, 2) 2 -2 5\n",
      "(1, 3) 2 9223372036854775807 4\n",
      "changed rast\n",
      "(7, 5) 1 9223372036854775807 3\n",
      "changed rast\n",
      "(7, 6) 1 9223372036854775807 4\n",
      "changed rast\n",
      "(7, 8) 1 9223372036854775807 9\n",
      "changed rast\n",
      "(7, 9) 1 9223372036854775807 3\n",
      "changed rast\n",
      "(3, 4) 4 9223372036854775807 0\n",
      "changed rast\n",
      "(5, 4) 3 0 4\n"
     ]
    }
   ],
   "source": [
    "import sys\n",
    "def Dejkstra2(mat, versh): \n",
    "    rast = [sys.maxsize]*len(mat)\n",
    "    och = Queue()\n",
    "    posesch = []\n",
    "    och.add((None,versh)) #пара вершин откуда-куда\n",
    "    while not och.is_empty(): \n",
    "        zapis = och.pop() \n",
    "        posesch.append(zapis[1]) #куда пришли\n",
    "        if zapis[0] is not None:\n",
    "            r = rast[zapis[0]] + mat[zapis[0]][zapis[1]] - (abs(min_weight) + 1)\n",
    "            print(zapis, rast[zapis[0]], rast[zapis[1]], r)\n",
    "            if r < rast[zapis[1]]:\n",
    "                print('changed rast')\n",
    "                rast[zapis[1]] = r\n",
    "        else: \n",
    "            rast[zapis[1]] = 0\n",
    "        for num,i in enumerate (mat[zapis[1]]): \n",
    "            if i != 0 and num not in posesch:\n",
    "                och.add((zapis[1], num))\n",
    "    return rast\n",
    "rast = Dejkstra2(mat,0)"
   ]
  },
  {
   "cell_type": "code",
   "execution_count": 9,
   "id": "4e5dcc23-47e3-4764-9553-1fa48ddd9f02",
   "metadata": {},
   "outputs": [
    {
     "data": {
      "text/plain": [
       "[0, 2, -2, 4, 0, 3, 4, 1, 9, 3]"
      ]
     },
     "execution_count": 9,
     "metadata": {},
     "output_type": "execute_result"
    }
   ],
   "source": [
    "rast"
   ]
  },
  {
   "cell_type": "code",
   "execution_count": 10,
   "id": "18b30ec2-30da-46a1-b665-011b80be9df2",
   "metadata": {},
   "outputs": [],
   "source": [
    "for i in range(1, len(rast)):\n",
    "    rast[i] -= abs(min_weight) + 1"
   ]
  },
  {
   "cell_type": "code",
   "execution_count": 11,
   "id": "12161374-895c-4c87-90ea-310053afc5ef",
   "metadata": {},
   "outputs": [
    {
     "data": {
      "text/plain": [
       "[0, -3, -7, -1, -5, -2, -1, -4, 4, -2]"
      ]
     },
     "execution_count": 11,
     "metadata": {},
     "output_type": "execute_result"
    }
   ],
   "source": [
    "rast"
   ]
  },
  {
   "cell_type": "code",
   "execution_count": 12,
   "id": "377c5db5-8b13-4360-9e9e-ef7b655bcb08",
   "metadata": {},
   "outputs": [
    {
     "name": "stdout",
     "output_type": "stream",
     "text": [
      "(0, 1)\n",
      "(0, 2)\n",
      "(0, 7)\n",
      "[0]\n",
      "(1, 2)\n",
      "(1, 3)\n",
      "[0, 0]\n",
      "(2, 1)\n",
      "[0, 0, 1]\n",
      "(7, 5)\n",
      "(7, 6)\n",
      "(7, 8)\n",
      "(7, 9)\n",
      "[0, 0, 1, 2]\n",
      "[0, 0, 1, 2, 7]\n",
      "(3, 4)\n",
      "[0, 0, 1, 2, 7, 2]\n",
      "(1, 3)\n",
      "[0, 0, 1, 2, 7, 2, 3]\n",
      "(5, 4)\n",
      "[0, 0, 1, 2, 7, 2, 3, 1]\n",
      "[0, 0, 1, 2, 7, 2, 3, 1, 5]\n",
      "[0, 0, 1, 2, 7, 2, 3, 1, 5, 6]\n",
      "[0, 0, 1, 2, 7, 2, 3, 1, 5, 6, 8]\n",
      "[0, 0, 1, 2, 7, 2, 3, 1, 5, 6, 8, 9]\n",
      "(3, 4)\n",
      "[0, 0, 1, 2, 7, 2, 3, 1, 5, 6, 8, 9, 4]\n",
      "[0, 0, 1, 2, 7, 2, 3, 1, 5, 6, 8, 9, 4, 3]\n",
      "[0, 0, 1, 2, 7, 2, 3, 1, 5, 6, 8, 9, 4, 3, 4]\n"
     ]
    },
    {
     "data": {
      "text/plain": [
       "[0, 5, 2, 7, 4, 3, 4, 1, 9, 3]"
      ]
     },
     "execution_count": 12,
     "metadata": {},
     "output_type": "execute_result"
    }
   ],
   "source": [
    "mat = [[0 for i in range(10)]for i in range(10)]\n",
    "min_weight = sys.maxsize\n",
    "for i,j,k in [(0,1,20),(0,2, 2),(0,7,1),(1,2, 3),(1,3, 2),(3,4, 4),(4,5, 1),\n",
    "              (5,7, 2),(6,7, 3),(7,8, 8),(7,9, 2)]:\n",
    "    mat[i][j] = k\n",
    "    mat[j][i] = k\n",
    "    if k < min_weight:\n",
    "        min_weight = k\n",
    "Dejkstra(mat, 0)"
   ]
  },
  {
   "cell_type": "code",
   "execution_count": 13,
   "id": "b463fc4e-20ed-4f91-b5dd-a4e8f636814e",
   "metadata": {},
   "outputs": [],
   "source": [
    "def Prim(mat, start):\n",
    "    visited = []\n",
    "    min_ost_tree = [[0 for i in range(len(mat))]for i in range(len(mat))]\n",
    "    visited.append(start)\n",
    "    \n",
    "    while len(visited) < len(mat):\n",
    "        r_min = sys.maxsize\n",
    "        old_node = None\n",
    "        new_node = None\n",
    "        for node in visited:\n",
    "            for j in range(len(mat[node])):\n",
    "                if j not in visited:\n",
    "                    if mat[node][j] != 0 and mat[node][j] < r_min and min_ost_tree[node][j] == 0:\n",
    "                        r_min = mat[node][j]\n",
    "                        new_node = j\n",
    "                        old_node = node\n",
    "            \n",
    "        min_ost_tree[old_node][new_node] = r_min\n",
    "        min_ost_tree[new_node][old_node] = r_min\n",
    "        if new_node not in visited:\n",
    "            visited.append(new_node)\n",
    "        print(visited)\n",
    "    return min_ost_tree\n",
    "        "
   ]
  },
  {
   "cell_type": "code",
   "execution_count": 14,
   "id": "24a334e5-7a54-4013-9d88-9f55d2214ffc",
   "metadata": {},
   "outputs": [
    {
     "name": "stdout",
     "output_type": "stream",
     "text": [
      "[0, 7]\n",
      "[0, 7, 2]\n",
      "[0, 7, 2, 5]\n",
      "[0, 7, 2, 5, 4]\n",
      "[0, 7, 2, 5, 4, 3]\n",
      "[0, 7, 2, 5, 4, 3, 9]\n",
      "[0, 7, 2, 5, 4, 3, 9, 1]\n",
      "[0, 7, 2, 5, 4, 3, 9, 1, 6]\n",
      "[0, 7, 2, 5, 4, 3, 9, 1, 6, 8]\n"
     ]
    },
    {
     "data": {
      "text/plain": [
       "[[0, 0, 2, 0, 0, 0, 0, 1, 0, 0],\n",
       " [0, 0, 0, 2, 0, 0, 0, 0, 0, 0],\n",
       " [2, 0, 0, 0, 0, 0, 0, 0, 0, 0],\n",
       " [0, 2, 0, 0, -4, 0, 0, 0, 0, 0],\n",
       " [0, 0, 0, -4, 0, 1, 0, 0, 0, 0],\n",
       " [0, 0, 0, 0, 1, 0, 0, 2, 0, 0],\n",
       " [0, 0, 0, 0, 0, 0, 0, 3, 0, 0],\n",
       " [1, 0, 0, 0, 0, 2, 3, 0, 8, 2],\n",
       " [0, 0, 0, 0, 0, 0, 0, 8, 0, 0],\n",
       " [0, 0, 0, 0, 0, 0, 0, 2, 0, 0]]"
      ]
     },
     "execution_count": 14,
     "metadata": {},
     "output_type": "execute_result"
    }
   ],
   "source": [
    "mat = [[0 for i in range(10)]for i in range(10)]\n",
    "for i,j,k in [(0,1,20),(0,2, 2),(0,7,1),(1,2, 3),(1,3, 2),(3,4, -4),(4,5, 1),\n",
    "              (5,7, 2),(6,7, 3),(7,8, 8),(7,9, 2)]:\n",
    "    mat[i][j] = k\n",
    "    mat[j][i] = k\n",
    "Prim(mat, 0)"
   ]
  },
  {
   "cell_type": "code",
   "execution_count": 46,
   "id": "b3e0502d-2bd0-44e8-9682-509d01f03f48",
   "metadata": {},
   "outputs": [],
   "source": [
    "def Kruskul(matrix):\n",
    "    min_ost_tree = [[0 for i in range(len(matrix))]for i in range(len(matrix))]\n",
    "    vizited = []\n",
    "    while len(vizited) < len(matrix):\n",
    "        min_el = sys.maxsize\n",
    "        min_a = None\n",
    "        min_b = None\n",
    "        for i in range(len(matrix) - 1):\n",
    "            for j in range(i + 1, len(matrix)):\n",
    "                if matrix[i][j] != 0:\n",
    "                    print(\"+\"*10)\n",
    "                    print(i,j)\n",
    "                    if min_ost_tree[i][j] == 0:\n",
    "                        print('Not in Tree')\n",
    "                        if matrix[i][j] < min_el:\n",
    "                            print(\"min\")\n",
    "                            min_ost_tree[i][j] = matrix[i][j]\n",
    "                            min_ost_tree[j][i] = matrix[j][i]\n",
    "                            if not Zcikl(min_ost_tree):\n",
    "                                print(\"Not zcikl\")\n",
    "                                min_el = matrix[i][j]\n",
    "                                min_a = i\n",
    "                                min_b = j\n",
    "                            else:\n",
    "                                print(\"zcikl\")\n",
    "                            min_ost_tree[i][j] = 0\n",
    "                            min_ost_tree[j][i] = 0\n",
    "        if min_a not in vizited:\n",
    "            vizited.append(min_a)\n",
    "        if min_b not in vizited:\n",
    "            vizited.append(min_b)\n",
    "        print(vizited)\n",
    "            \n",
    "        min_ost_tree[min_a][min_b] = matrix[min_a][min_b]\n",
    "        min_ost_tree[min_b][min_a] = matrix[min_b][min_a]\n",
    "    return min_ost_tree\n",
    "\n",
    "def Zcikl(matrix_ost):\n",
    "    n_v = Number_of_Nodes(matrix_ost)\n",
    "    n_e = 0\n",
    "    for i in range(len(matrix_ost) - 1):\n",
    "        for j in range(i + 1, len(matrix_ost)):\n",
    "            if matrix_ost[i][j] != 0:\n",
    "                n_e += 1\n",
    "                if n_e >= n_v:\n",
    "                    return True\n",
    "    return False\n",
    "\n",
    "def Number_of_Nodes(matrix):\n",
    "    count = 0\n",
    "    for l in matrix:\n",
    "        if max([abs(x) for x in l]) != 0:\n",
    "            count += 1\n",
    "    return count\n",
    "    \n",
    "    \n",
    "\n",
    "    "
   ]
  },
  {
   "cell_type": "code",
   "execution_count": 47,
   "id": "f3a9ce8e-faa3-45dc-a0c9-36d6f6e8f1cc",
   "metadata": {},
   "outputs": [
    {
     "data": {
      "text/plain": [
       "True"
      ]
     },
     "execution_count": 47,
     "metadata": {},
     "output_type": "execute_result"
    }
   ],
   "source": [
    "Zcikl([[0,1,1],[1,0,1],[0,0,0]])"
   ]
  },
  {
   "cell_type": "code",
   "execution_count": 48,
   "id": "020b89b5-d7b4-4e93-9532-5514dbfdb481",
   "metadata": {},
   "outputs": [
    {
     "name": "stdout",
     "output_type": "stream",
     "text": [
      "++++++++++\n",
      "0 1\n",
      "Not in Tree\n",
      "min\n",
      "Not zcikl\n",
      "++++++++++\n",
      "0 2\n",
      "Not in Tree\n",
      "min\n",
      "Not zcikl\n",
      "++++++++++\n",
      "0 7\n",
      "Not in Tree\n",
      "min\n",
      "Not zcikl\n",
      "++++++++++\n",
      "1 2\n",
      "Not in Tree\n",
      "++++++++++\n",
      "1 3\n",
      "Not in Tree\n",
      "++++++++++\n",
      "3 4\n",
      "Not in Tree\n",
      "min\n",
      "Not zcikl\n",
      "++++++++++\n",
      "4 5\n",
      "Not in Tree\n",
      "++++++++++\n",
      "5 7\n",
      "Not in Tree\n",
      "++++++++++\n",
      "6 7\n",
      "Not in Tree\n",
      "++++++++++\n",
      "7 8\n",
      "Not in Tree\n",
      "++++++++++\n",
      "7 9\n",
      "Not in Tree\n",
      "[3, 4]\n",
      "++++++++++\n",
      "0 1\n",
      "Not in Tree\n",
      "min\n",
      "Not zcikl\n",
      "++++++++++\n",
      "0 2\n",
      "Not in Tree\n",
      "min\n",
      "Not zcikl\n",
      "++++++++++\n",
      "0 7\n",
      "Not in Tree\n",
      "min\n",
      "Not zcikl\n",
      "++++++++++\n",
      "1 2\n",
      "Not in Tree\n",
      "++++++++++\n",
      "1 3\n",
      "Not in Tree\n",
      "++++++++++\n",
      "3 4\n",
      "++++++++++\n",
      "4 5\n",
      "Not in Tree\n",
      "++++++++++\n",
      "5 7\n",
      "Not in Tree\n",
      "++++++++++\n",
      "6 7\n",
      "Not in Tree\n",
      "++++++++++\n",
      "7 8\n",
      "Not in Tree\n",
      "++++++++++\n",
      "7 9\n",
      "Not in Tree\n",
      "[3, 4, 0, 7]\n",
      "++++++++++\n",
      "0 1\n",
      "Not in Tree\n",
      "min\n",
      "Not zcikl\n",
      "++++++++++\n",
      "0 2\n",
      "Not in Tree\n",
      "min\n",
      "Not zcikl\n",
      "++++++++++\n",
      "0 7\n",
      "++++++++++\n",
      "1 2\n",
      "Not in Tree\n",
      "++++++++++\n",
      "1 3\n",
      "Not in Tree\n",
      "++++++++++\n",
      "3 4\n",
      "++++++++++\n",
      "4 5\n",
      "Not in Tree\n",
      "min\n",
      "Not zcikl\n",
      "++++++++++\n",
      "5 7\n",
      "Not in Tree\n",
      "++++++++++\n",
      "6 7\n",
      "Not in Tree\n",
      "++++++++++\n",
      "7 8\n",
      "Not in Tree\n",
      "++++++++++\n",
      "7 9\n",
      "Not in Tree\n",
      "[3, 4, 0, 7, 5]\n",
      "++++++++++\n",
      "0 1\n",
      "Not in Tree\n",
      "min\n",
      "Not zcikl\n",
      "++++++++++\n",
      "0 2\n",
      "Not in Tree\n",
      "min\n",
      "Not zcikl\n",
      "++++++++++\n",
      "0 7\n",
      "++++++++++\n",
      "1 2\n",
      "Not in Tree\n",
      "++++++++++\n",
      "1 3\n",
      "Not in Tree\n",
      "++++++++++\n",
      "3 4\n",
      "++++++++++\n",
      "4 5\n",
      "++++++++++\n",
      "5 7\n",
      "Not in Tree\n",
      "++++++++++\n",
      "6 7\n",
      "Not in Tree\n",
      "++++++++++\n",
      "7 8\n",
      "Not in Tree\n",
      "++++++++++\n",
      "7 9\n",
      "Not in Tree\n",
      "[3, 4, 0, 7, 5, 2]\n",
      "++++++++++\n",
      "0 1\n",
      "Not in Tree\n",
      "min\n",
      "Not zcikl\n",
      "++++++++++\n",
      "0 2\n",
      "++++++++++\n",
      "0 7\n",
      "++++++++++\n",
      "1 2\n",
      "Not in Tree\n",
      "min\n",
      "Not zcikl\n",
      "++++++++++\n",
      "1 3\n",
      "Not in Tree\n",
      "min\n",
      "Not zcikl\n",
      "++++++++++\n",
      "3 4\n",
      "++++++++++\n",
      "4 5\n",
      "++++++++++\n",
      "5 7\n",
      "Not in Tree\n",
      "++++++++++\n",
      "6 7\n",
      "Not in Tree\n",
      "++++++++++\n",
      "7 8\n",
      "Not in Tree\n",
      "++++++++++\n",
      "7 9\n",
      "Not in Tree\n",
      "[3, 4, 0, 7, 5, 2, 1]\n",
      "++++++++++\n",
      "0 1\n",
      "Not in Tree\n",
      "min\n",
      "Not zcikl\n",
      "++++++++++\n",
      "0 2\n",
      "++++++++++\n",
      "0 7\n",
      "++++++++++\n",
      "1 2\n",
      "Not in Tree\n",
      "min\n",
      "Not zcikl\n",
      "++++++++++\n",
      "1 3\n",
      "++++++++++\n",
      "3 4\n",
      "++++++++++\n",
      "4 5\n",
      "++++++++++\n",
      "5 7\n",
      "Not in Tree\n",
      "min\n",
      "Not zcikl\n",
      "++++++++++\n",
      "6 7\n",
      "Not in Tree\n",
      "++++++++++\n",
      "7 8\n",
      "Not in Tree\n",
      "++++++++++\n",
      "7 9\n",
      "Not in Tree\n",
      "[3, 4, 0, 7, 5, 2, 1]\n",
      "++++++++++\n",
      "0 1\n",
      "Not in Tree\n",
      "min\n",
      "zcikl\n",
      "++++++++++\n",
      "0 2\n",
      "++++++++++\n",
      "0 7\n",
      "++++++++++\n",
      "1 2\n",
      "Not in Tree\n",
      "min\n",
      "zcikl\n",
      "++++++++++\n",
      "1 3\n",
      "++++++++++\n",
      "3 4\n",
      "++++++++++\n",
      "4 5\n",
      "++++++++++\n",
      "5 7\n",
      "++++++++++\n",
      "6 7\n",
      "Not in Tree\n",
      "min\n",
      "Not zcikl\n",
      "++++++++++\n",
      "7 8\n",
      "Not in Tree\n",
      "++++++++++\n",
      "7 9\n",
      "Not in Tree\n",
      "min\n",
      "Not zcikl\n",
      "[3, 4, 0, 7, 5, 2, 1, 9]\n",
      "++++++++++\n",
      "0 1\n",
      "Not in Tree\n",
      "min\n",
      "zcikl\n",
      "++++++++++\n",
      "0 2\n",
      "++++++++++\n",
      "0 7\n",
      "++++++++++\n",
      "1 2\n",
      "Not in Tree\n",
      "min\n",
      "zcikl\n",
      "++++++++++\n",
      "1 3\n",
      "++++++++++\n",
      "3 4\n",
      "++++++++++\n",
      "4 5\n",
      "++++++++++\n",
      "5 7\n",
      "++++++++++\n",
      "6 7\n",
      "Not in Tree\n",
      "min\n",
      "Not zcikl\n",
      "++++++++++\n",
      "7 8\n",
      "Not in Tree\n",
      "++++++++++\n",
      "7 9\n",
      "[3, 4, 0, 7, 5, 2, 1, 9, 6]\n",
      "++++++++++\n",
      "0 1\n",
      "Not in Tree\n",
      "min\n",
      "zcikl\n",
      "++++++++++\n",
      "0 2\n",
      "++++++++++\n",
      "0 7\n",
      "++++++++++\n",
      "1 2\n",
      "Not in Tree\n",
      "min\n",
      "zcikl\n",
      "++++++++++\n",
      "1 3\n",
      "++++++++++\n",
      "3 4\n",
      "++++++++++\n",
      "4 5\n",
      "++++++++++\n",
      "5 7\n",
      "++++++++++\n",
      "6 7\n",
      "++++++++++\n",
      "7 8\n",
      "Not in Tree\n",
      "min\n",
      "Not zcikl\n",
      "++++++++++\n",
      "7 9\n",
      "[3, 4, 0, 7, 5, 2, 1, 9, 6, 8]\n"
     ]
    },
    {
     "data": {
      "text/plain": [
       "[[0, 0, 2, 0, 0, 0, 0, 1, 0, 0],\n",
       " [0, 0, 0, 2, 0, 0, 0, 0, 0, 0],\n",
       " [2, 0, 0, 0, 0, 0, 0, 0, 0, 0],\n",
       " [0, 2, 0, 0, -4, 0, 0, 0, 0, 0],\n",
       " [0, 0, 0, -4, 0, 1, 0, 0, 0, 0],\n",
       " [0, 0, 0, 0, 1, 0, 0, 2, 0, 0],\n",
       " [0, 0, 0, 0, 0, 0, 0, 3, 0, 0],\n",
       " [1, 0, 0, 0, 0, 2, 3, 0, 8, 2],\n",
       " [0, 0, 0, 0, 0, 0, 0, 8, 0, 0],\n",
       " [0, 0, 0, 0, 0, 0, 0, 2, 0, 0]]"
      ]
     },
     "execution_count": 48,
     "metadata": {},
     "output_type": "execute_result"
    }
   ],
   "source": [
    "Kruskul(mat)"
   ]
  },
  {
   "cell_type": "code",
   "execution_count": 49,
   "id": "0b962e3f-e2a7-4230-a670-5017766344d2",
   "metadata": {},
   "outputs": [
    {
     "name": "stdout",
     "output_type": "stream",
     "text": [
      "The Zen of Python, by Tim Peters\n",
      "\n",
      "Beautiful is better than ugly.\n",
      "Explicit is better than implicit.\n",
      "Simple is better than complex.\n",
      "Complex is better than complicated.\n",
      "Flat is better than nested.\n",
      "Sparse is better than dense.\n",
      "Readability counts.\n",
      "Special cases aren't special enough to break the rules.\n",
      "Although practicality beats purity.\n",
      "Errors should never pass silently.\n",
      "Unless explicitly silenced.\n",
      "In the face of ambiguity, refuse the temptation to guess.\n",
      "There should be one-- and preferably only one --obvious way to do it.\n",
      "Although that way may not be obvious at first unless you're Dutch.\n",
      "Now is better than never.\n",
      "Although never is often better than *right* now.\n",
      "If the implementation is hard to explain, it's a bad idea.\n",
      "If the implementation is easy to explain, it may be a good idea.\n",
      "Namespaces are one honking great idea -- let's do more of those!\n"
     ]
    }
   ],
   "source": [
    "import this"
   ]
  },
  {
   "cell_type": "code",
   "execution_count": 50,
   "id": "9dacf1a0-f3a9-4156-9209-2e472abd7756",
   "metadata": {},
   "outputs": [
    {
     "data": {
      "text/plain": [
       "[[0, 20, 2, 0, 0, 0, 0, 1, 0, 0],\n",
       " [20, 0, 3, 2, 0, 0, 0, 0, 0, 0],\n",
       " [2, 3, 0, 0, 0, 0, 0, 0, 0, 0],\n",
       " [0, 2, 0, 0, -4, 0, 0, 0, 0, 0],\n",
       " [0, 0, 0, -4, 0, 1, 0, 0, 0, 0],\n",
       " [0, 0, 0, 0, 1, 0, 0, 2, 0, 0],\n",
       " [0, 0, 0, 0, 0, 0, 0, 3, 0, 0],\n",
       " [1, 0, 0, 0, 0, 2, 3, 0, 8, 2],\n",
       " [0, 0, 0, 0, 0, 0, 0, 8, 0, 0],\n",
       " [0, 0, 0, 0, 0, 0, 0, 2, 0, 0]]"
      ]
     },
     "execution_count": 50,
     "metadata": {},
     "output_type": "execute_result"
    }
   ],
   "source": [
    "mat"
   ]
  },
  {
   "cell_type": "code",
   "execution_count": 51,
   "id": "bb0298c7-36b0-4a8a-b4b0-435666482a3e",
   "metadata": {},
   "outputs": [
    {
     "name": "stdout",
     "output_type": "stream",
     "text": [
      "(0, 1)\n",
      "(0, 2)\n",
      "(0, 7)\n",
      "[0]\n",
      "(1, 2)\n",
      "(1, 3)\n",
      "[0, 0]\n",
      "(2, 1)\n",
      "[0, 0, 1]\n",
      "(7, 5)\n",
      "(7, 6)\n",
      "(7, 8)\n",
      "(7, 9)\n",
      "[0, 0, 1, 2]\n",
      "[0, 0, 1, 2, 7]\n",
      "(3, 4)\n",
      "[0, 0, 1, 2, 7, 2]\n",
      "(1, 3)\n",
      "[0, 0, 1, 2, 7, 2, 3]\n",
      "(5, 4)\n",
      "[0, 0, 1, 2, 7, 2, 3, 1]\n",
      "[0, 0, 1, 2, 7, 2, 3, 1, 5]\n",
      "[0, 0, 1, 2, 7, 2, 3, 1, 5, 6]\n",
      "[0, 0, 1, 2, 7, 2, 3, 1, 5, 6, 8]\n",
      "[0, 0, 1, 2, 7, 2, 3, 1, 5, 6, 8, 9]\n",
      "(3, 4)\n",
      "[0, 0, 1, 2, 7, 2, 3, 1, 5, 6, 8, 9, 4]\n",
      "[0, 0, 1, 2, 7, 2, 3, 1, 5, 6, 8, 9, 4, 3]\n",
      "[0, 0, 1, 2, 7, 2, 3, 1, 5, 6, 8, 9, 4, 3, 4]\n"
     ]
    },
    {
     "data": {
      "text/plain": [
       "[0, 5, 2, 7, 3, 3, 4, 1, 9, 3]"
      ]
     },
     "execution_count": 51,
     "metadata": {},
     "output_type": "execute_result"
    }
   ],
   "source": [
    "Dejkstra(mat,0)"
   ]
  },
  {
   "cell_type": "code",
   "execution_count": 52,
   "id": "4e9306cd-da38-4f26-b683-76a60670501c",
   "metadata": {},
   "outputs": [
    {
     "data": {
      "text/plain": [
       "[[0, 20, 2, 0, 0, 0, 0, 1, 0, 0],\n",
       " [20, 0, -3, 2, 0, 0, 0, 0, 0, 0],\n",
       " [2, -3, 0, 0, 0, 0, 0, 0, 0, 0],\n",
       " [0, 2, 0, 0, -4, 0, 0, 0, 0, 0],\n",
       " [0, 0, 0, -4, 0, 1, 0, 0, 0, 0],\n",
       " [0, 0, 0, 0, 1, 0, 0, 2, 0, 0],\n",
       " [0, 0, 0, 0, 0, 0, 0, 3, 0, 0],\n",
       " [1, 0, 0, 0, 0, 2, 3, 0, 8, 2],\n",
       " [0, 0, 0, 0, 0, 0, 0, 8, 0, 0],\n",
       " [0, 0, 0, 0, 0, 0, 0, 2, 0, 0]]"
      ]
     },
     "execution_count": 52,
     "metadata": {},
     "output_type": "execute_result"
    }
   ],
   "source": [
    "mat = [[0 for i in range(10)]for i in range(10)]\n",
    "for i,j,k in [(0,1,20),(0,2, 2),(0,7,1),(1,2, -3),(1,3, 2),(3,4, -4),(4,5, 1),\n",
    "              (5,7, 2),(6,7, 3),(7,8, 8),(7,9, 2)]:\n",
    "    mat[i][j] = k\n",
    "    mat[j][i] = k\n",
    "mat"
   ]
  },
  {
   "cell_type": "code",
   "execution_count": 53,
   "id": "d38542e7-ab1b-4296-b58f-07cbd8d5d194",
   "metadata": {},
   "outputs": [
    {
     "name": "stdout",
     "output_type": "stream",
     "text": [
      "(0, 1)\n",
      "(0, 2)\n",
      "(0, 7)\n",
      "[0]\n",
      "(1, 2)\n",
      "(1, 3)\n",
      "[0, 0]\n",
      "(2, 1)\n",
      "[0, 0, 1]\n",
      "(7, 5)\n",
      "(7, 6)\n",
      "(7, 8)\n",
      "(7, 9)\n",
      "[0, 0, 1, 2]\n",
      "[0, 0, 1, 2, 7]\n",
      "(3, 4)\n",
      "[0, 0, 1, 2, 7, 2]\n",
      "(1, 3)\n",
      "[0, 0, 1, 2, 7, 2, 3]\n",
      "(5, 4)\n",
      "[0, 0, 1, 2, 7, 2, 3, 1]\n",
      "[0, 0, 1, 2, 7, 2, 3, 1, 5]\n",
      "[0, 0, 1, 2, 7, 2, 3, 1, 5, 6]\n",
      "[0, 0, 1, 2, 7, 2, 3, 1, 5, 6, 8]\n",
      "[0, 0, 1, 2, 7, 2, 3, 1, 5, 6, 8, 9]\n",
      "(3, 4)\n",
      "[0, 0, 1, 2, 7, 2, 3, 1, 5, 6, 8, 9, 4]\n",
      "[0, 0, 1, 2, 7, 2, 3, 1, 5, 6, 8, 9, 4, 3]\n",
      "[0, 0, 1, 2, 7, 2, 3, 1, 5, 6, 8, 9, 4, 3, 4]\n"
     ]
    },
    {
     "data": {
      "text/plain": [
       "[0, -1, 2, 1, -3, 3, 4, 1, 9, 3]"
      ]
     },
     "execution_count": 53,
     "metadata": {},
     "output_type": "execute_result"
    }
   ],
   "source": [
    "Dejkstra(mat,0)"
   ]
  },
  {
   "cell_type": "code",
   "execution_count": 54,
   "id": "509f8c94-9a95-4b1b-83bd-f1bd9acaef7a",
   "metadata": {},
   "outputs": [
    {
     "name": "stdout",
     "output_type": "stream",
     "text": [
      "[0, 7]\n",
      "[0, 7, 2]\n",
      "[0, 7, 2, 1]\n",
      "[0, 7, 2, 1, 5]\n",
      "[0, 7, 2, 1, 5, 4]\n",
      "[0, 7, 2, 1, 5, 4, 3]\n",
      "[0, 7, 2, 1, 5, 4, 3, 9]\n",
      "[0, 7, 2, 1, 5, 4, 3, 9, 6]\n",
      "[0, 7, 2, 1, 5, 4, 3, 9, 6, 8]\n",
      "(0, 2)\n",
      "(0, 7)\n",
      "[0]\n",
      "(2, 1)\n",
      "[0, 0]\n",
      "(7, 5)\n",
      "(7, 6)\n",
      "(7, 8)\n",
      "(7, 9)\n",
      "[0, 0, 2]\n",
      "[0, 0, 2, 7]\n",
      "(5, 4)\n",
      "[0, 0, 2, 7, 1]\n",
      "[0, 0, 2, 7, 1, 5]\n",
      "[0, 0, 2, 7, 1, 5, 6]\n",
      "[0, 0, 2, 7, 1, 5, 6, 8]\n",
      "(4, 3)\n",
      "[0, 0, 2, 7, 1, 5, 6, 8, 9]\n",
      "(3, 4)\n",
      "[0, 0, 2, 7, 1, 5, 6, 8, 9, 4]\n",
      "(4, 3)\n",
      "[0, 0, 2, 7, 1, 5, 6, 8, 9, 4, 3]\n",
      "[0, 0, 2, 7, 1, 5, 6, 8, 9, 4, 3, 4]\n"
     ]
    },
    {
     "data": {
      "text/plain": [
       "[0, -1, 2, -8, -4, 3, 4, 1, 9, 3]"
      ]
     },
     "execution_count": 54,
     "metadata": {},
     "output_type": "execute_result"
    }
   ],
   "source": [
    "Dejkstra(Prim(mat, 0),0)"
   ]
  },
  {
   "cell_type": "code",
   "execution_count": 56,
   "id": "33703377-792e-40c0-aeae-c768ff8dd395",
   "metadata": {},
   "outputs": [],
   "source": [
    "mat.__hash__"
   ]
  },
  {
   "cell_type": "code",
   "execution_count": 57,
   "id": "3229880a-6148-4595-9f6d-81e8f164a3b0",
   "metadata": {},
   "outputs": [
    {
     "data": {
      "text/plain": [
       "list"
      ]
     },
     "execution_count": 57,
     "metadata": {},
     "output_type": "execute_result"
    }
   ],
   "source": [
    "type(mat)"
   ]
  },
  {
   "cell_type": "code",
   "execution_count": 61,
   "id": "1063e585-a137-48c1-88d8-d22da6fbcc1e",
   "metadata": {},
   "outputs": [
    {
     "data": {
      "text/plain": [
       "1104956881786804387"
      ]
     },
     "execution_count": 61,
     "metadata": {},
     "output_type": "execute_result"
    }
   ],
   "source": [
    "a = 'asndbfakjsf'\n",
    "a.__hash__().__hash__()"
   ]
  },
  {
   "cell_type": "code",
   "execution_count": 60,
   "id": "b3484842-3597-47fb-810e-1b2018532611",
   "metadata": {},
   "outputs": [
    {
     "data": {
      "text/plain": [
       "-1467267874458550984"
      ]
     },
     "execution_count": 60,
     "metadata": {},
     "output_type": "execute_result"
    }
   ],
   "source": [
    "b = ((1,2), (3,4))\n",
    "b.__hash__()"
   ]
  },
  {
   "cell_type": "code",
   "execution_count": 162,
   "id": "8e6b23fc-d229-4b84-b0de-e5e8ec0b736e",
   "metadata": {},
   "outputs": [],
   "source": [
    "a = [['sdfsd', 'sdfsdf'], ['sdfsdfs', 'qwqqweqw'], ['sdfsdfsdfs', 'cvbcbcvbcv']]\n",
    "\n",
    "class HashTable():\n",
    "    def __init__(self):\n",
    "        self.table = []\n",
    "        self.denominator = 4\n",
    "        self.collision_count = 0\n",
    "        self.max_list_len = 1\n",
    "        self.max_list_len_ind = None\n",
    "\n",
    "    def __hash_to_index(self, hash):\n",
    "        index = abs(hash) % (10**self.denominator)\n",
    "        return index\n",
    "\n",
    "    def add(self, key, value):\n",
    "        index = self.__hash_to_index(key.__hash__())\n",
    "        if len(self.table) <= index: \n",
    "            self.table = self.table + [None] * (index - len(self.table) + 1)\n",
    "        if self.table[index] is not None:\n",
    "            self.collision_count += 1\n",
    "            self.table[index].append((key, value))\n",
    "            if len(self.table[index]) > self.max_list_len:\n",
    "                self.max_list_len = len(self.table[index])\n",
    "                self.max_list_len_ind = index\n",
    "        else:\n",
    "            self.table[index] = [(key, value)]\n",
    "\n",
    "    def print(self):\n",
    "        for elem in self.table:\n",
    "            if elem is not None:\n",
    "                print(elem)\n",
    "\n",
    "    def get(self, key):\n",
    "        index = self.__hash_to_index(key.__hash__())\n",
    "        if self.table[index] is not None:\n",
    "            elem = self.table[index]\n",
    "            if len(elem) == 1:\n",
    "                return elem[0][1]\n",
    "            else:\n",
    "                for pair in elem:\n",
    "                    if pair[0] == key:\n",
    "                        return pair[1]\n",
    "\n",
    "    def delete(self, key):\n",
    "        pass\n",
    "\n",
    "    def count(self):\n",
    "        count = 0\n",
    "        for elem in self.table:\n",
    "            if elem is not None:\n",
    "                count += len(elem)\n",
    "        return count\n",
    "\n",
    "    def used_cells(self):\n",
    "        count = 0\n",
    "        for elem in self.table:\n",
    "            if elem is not None:\n",
    "                count += 1\n",
    "        return count\n",
    "\n",
    "\n"
   ]
  },
  {
   "cell_type": "code",
   "execution_count": 85,
   "id": "41a25a02-1a9f-49cd-ad34-36319e1d12be",
   "metadata": {},
   "outputs": [
    {
     "name": "stdout",
     "output_type": "stream",
     "text": [
      "sdfsd 8963\n",
      "sdfsdfs 9963\n",
      "sdfsdfsdfs 8291\n"
     ]
    }
   ],
   "source": [
    "tab = HashTable()\n",
    "for key, value in a:\n",
    "    tab.add(key, value)\n",
    "\n",
    "\n",
    "\n",
    "\n",
    "\n",
    "\n"
   ]
  },
  {
   "cell_type": "code",
   "execution_count": 86,
   "id": "f1a6ec4d-9735-4a78-b3f7-066e87b97f12",
   "metadata": {},
   "outputs": [
    {
     "name": "stdout",
     "output_type": "stream",
     "text": [
      "('sdfsdfsdfs', 'cvbcbcvbcv')\n",
      "('sdfsd', 'sdfsdf')\n",
      "('sdfsdfs', 'qwqqweqw')\n"
     ]
    }
   ],
   "source": [
    "tab.print()"
   ]
  },
  {
   "cell_type": "code",
   "execution_count": 87,
   "id": "ed02a172-3211-45af-9b91-8ab1da777830",
   "metadata": {},
   "outputs": [
    {
     "data": {
      "text/plain": [
       "9964"
      ]
     },
     "execution_count": 87,
     "metadata": {},
     "output_type": "execute_result"
    }
   ],
   "source": [
    "len(tab.table)"
   ]
  },
  {
   "cell_type": "code",
   "execution_count": 83,
   "id": "bea5810e-a310-4611-b2ec-2b72a72886e4",
   "metadata": {},
   "outputs": [
    {
     "data": {
      "text/plain": [
       "-5753662393543341037"
      ]
     },
     "execution_count": 83,
     "metadata": {},
     "output_type": "execute_result"
    }
   ],
   "source": [
    "'sdfsd'.__hash__()"
   ]
  },
  {
   "cell_type": "code",
   "execution_count": 171,
   "id": "d42eebe0-65dd-418f-9568-e3b09bad57dc",
   "metadata": {},
   "outputs": [
    {
     "name": "stdout",
     "output_type": "stream",
     "text": [
      "5000\n",
      "10000\n",
      "15000\n",
      "20000\n",
      "25000\n",
      "30000\n"
     ]
    }
   ],
   "source": [
    "import random\n",
    "\n",
    "sizes = [5000, 10000, 15000, 20000, 25000, 30000]\n",
    "used = []\n",
    "colls = []\n",
    "max_list_size = []\n",
    "for size in sizes:\n",
    "    print(size)\n",
    "    tab = HashTable()\n",
    "    keys = []\n",
    "    for _ in range(size):\n",
    "        key = str(random.randint(0, 100000000000))\n",
    "        value = str(random.randint(0, 100000000000))\n",
    "        if key not in keys:\n",
    "            keys.append(key)\n",
    "            tab.add(key, value)\n",
    "    used.append(tab.used_cells())\n",
    "    colls.append(tab.collision_count)\n",
    "    max_list_size.append(tab.max_list_len)"
   ]
  },
  {
   "cell_type": "code",
   "execution_count": 176,
   "id": "892f4395-366d-4eaf-aa8a-490abe3cebc4",
   "metadata": {},
   "outputs": [
    {
     "data": {
      "image/png": "[encoded data removed]",
      "text/plain": [
       "<Figure size 640x480 with 1 Axes>"
      ]
     },
     "metadata": {},
     "output_type": "display_data"
    }
   ],
   "source": [
    "from matplotlib import pyplot as plt\n",
    "\n",
    "plt.plot(sizes, used, label='used cells')\n",
    "plt.plot(sizes, colls, label='collision count')\n",
    "# plt.plot(sizes, max_list_size, label='max list len')\n",
    "plt.legend()\n",
    "plt.grid()"
   ]
  },
  {
   "cell_type": "code",
   "execution_count": 154,
   "id": "23c4ee7c-013d-41f0-b569-53a401d054bd",
   "metadata": {},
   "outputs": [
    {
     "data": {
      "text/plain": [
       "10000"
      ]
     },
     "execution_count": 154,
     "metadata": {},
     "output_type": "execute_result"
    }
   ],
   "source": [
    "len(keys)"
   ]
  },
  {
   "cell_type": "code",
   "execution_count": 95,
   "id": "18fb2a6b-6db0-45b3-a92b-de3147655419",
   "metadata": {},
   "outputs": [
    {
     "data": {
      "text/plain": [
       "-2107066578319981662"
      ]
     },
     "execution_count": 95,
     "metadata": {},
     "output_type": "execute_result"
    }
   ],
   "source": [
    "keys[0].__hash__()"
   ]
  },
  {
   "cell_type": "code",
   "execution_count": 155,
   "id": "45cd0f20-4232-4533-a3ef-f3e50441195f",
   "metadata": {},
   "outputs": [
    {
     "data": {
      "text/plain": [
       "3703"
      ]
     },
     "execution_count": 155,
     "metadata": {},
     "output_type": "execute_result"
    }
   ],
   "source": [
    "tab.collision_count"
   ]
  },
  {
   "cell_type": "code",
   "execution_count": 164,
   "id": "7812b395-3466-44c7-888b-7085749c22f3",
   "metadata": {},
   "outputs": [
    {
     "data": {
      "text/plain": [
       "6310"
      ]
     },
     "execution_count": 164,
     "metadata": {},
     "output_type": "execute_result"
    }
   ],
   "source": [
    "tab.used_cells()"
   ]
  },
  {
   "cell_type": "code",
   "execution_count": 156,
   "id": "00d4c2f6-3ddc-4ec6-97a7-debb9a4b0f6f",
   "metadata": {},
   "outputs": [
    {
     "data": {
      "text/plain": [
       "10000"
      ]
     },
     "execution_count": 156,
     "metadata": {},
     "output_type": "execute_result"
    }
   ],
   "source": [
    "tab.count()"
   ]
  },
  {
   "cell_type": "code",
   "execution_count": 165,
   "id": "ce497bf4-b981-485d-b799-9e9e4796e5e5",
   "metadata": {},
   "outputs": [
    {
     "data": {
      "text/plain": [
       "10000"
      ]
     },
     "execution_count": 165,
     "metadata": {},
     "output_type": "execute_result"
    }
   ],
   "source": [
    "len(tab.table)"
   ]
  },
  {
   "cell_type": "code",
   "execution_count": 158,
   "id": "41009dde-673c-4d94-ae75-dea2884cbdce",
   "metadata": {},
   "outputs": [
    {
     "data": {
      "text/plain": [
       "7"
      ]
     },
     "execution_count": 158,
     "metadata": {},
     "output_type": "execute_result"
    }
   ],
   "source": [
    "tab.max_list_len"
   ]
  },
  {
   "cell_type": "code",
   "execution_count": 159,
   "id": "9612430a-5fcc-45ed-b2c1-e268aee34b62",
   "metadata": {},
   "outputs": [
    {
     "data": {
      "text/plain": [
       "3520"
      ]
     },
     "execution_count": 159,
     "metadata": {},
     "output_type": "execute_result"
    }
   ],
   "source": [
    "tab.max_list_len_ind"
   ]
  },
  {
   "cell_type": "code",
   "execution_count": 160,
   "id": "78aded11-221d-4595-a83f-e2134c4b86d2",
   "metadata": {},
   "outputs": [
    {
     "data": {
      "text/plain": [
       "[('45572291525', '83212523103'),\n",
       " ('97129850085', '6136796363'),\n",
       " ('34012808163', '62078365973'),\n",
       " ('18030795576', '42549749519'),\n",
       " ('34390716053', '50006813678'),\n",
       " ('27469110959', '4622461768'),\n",
       " ('38921361063', '94501818795')]"
      ]
     },
     "execution_count": 160,
     "metadata": {},
     "output_type": "execute_result"
    }
   ],
   "source": [
    "tab.table[tab.max_list_len_ind]"
   ]
  },
  {
   "cell_type": "code",
   "execution_count": 151,
   "id": "c6bac58d-d952-4c25-871b-94bdf1de4c71",
   "metadata": {},
   "outputs": [
    {
     "data": {
      "text/plain": [
       "10000"
      ]
     },
     "execution_count": 151,
     "metadata": {},
     "output_type": "execute_result"
    }
   ],
   "source": [
    "tab.count()"
   ]
  },
  {
   "cell_type": "code",
   "execution_count": 71,
   "id": "3a432f7f-94f6-4e79-99a6-0123247a0d5d",
   "metadata": {},
   "outputs": [],
   "source": [
    "class HashTableOpenAddress():\n",
    "    def __init__(self):\n",
    "        self.table = []\n",
    "        self.denominator = 4\n",
    "        self.collision_count = 0\n",
    "        self.max_steps = 1\n",
    "\n",
    "    def __hash_to_index(self, hash):\n",
    "        index = abs(hash) % (10**self.denominator)\n",
    "        return index\n",
    "\n",
    "    def add(self, key, value):\n",
    "        index = self.__hash_to_index(key.__hash__())\n",
    "        if len(self.table) <= index: \n",
    "            self.table = self.table + [None] * (index - len(self.table) + 1)\n",
    "        if self.table[index] is not None:\n",
    "            self.collision_count += 1\n",
    "            steps_up = 0\n",
    "            steps_down = 0\n",
    "            steps = 0\n",
    "            while (self.table[index+steps_down] is not None and self.table[index-steps_up] is not None):             \n",
    "                if index+steps_down < len(self.table)-1:\n",
    "                    steps_down += 1\n",
    "                if index-steps_up > 0:\n",
    "                    steps_up += 1\n",
    "                if not (index+steps_down < len(self.table) or index-steps_up >= 0):\n",
    "                    break\n",
    "                \n",
    "            # print(index+steps_down, index-steps_up)\n",
    "            if index+steps_down < len(self.table) and self.table[index+steps_down] is None:\n",
    "                self.table[index+steps_down] = (key, value)\n",
    "                steps = steps_down\n",
    "            elif index-steps_up >= 0 and self.table[index-steps_up] is None:\n",
    "                self.table[index-steps_up] = (key, value)\n",
    "                steps = steps_up\n",
    "            else:\n",
    "                print(index+steps_down, self.denominator, len(self.table))\n",
    "                # print(self.table[index+steps_down])\n",
    "                print(index-steps_up, self.denominator, len(self.table))\n",
    "                # print(self.table[index-steps_up])\n",
    "                self.__rewrite()\n",
    "                self.add(key, value)\n",
    "                return\n",
    "            if steps > self.max_steps:\n",
    "                self.max_steps = steps\n",
    "        else:\n",
    "            self.table[index] = (key, value)\n",
    "\n",
    "    def __rewrite(self):\n",
    "        print('rewrite')\n",
    "        new_table = HashTableOpenAddress()\n",
    "        new_table.denominator = self.denominator + 1\n",
    "        for elem in self.table:\n",
    "            if elem is not None:\n",
    "                new_table.add(elem[0], elem[1])\n",
    "        self.table = new_table.table\n",
    "        self.denominator = new_table.denominator\n",
    "        self.max_steps = new_table.max_steps\n",
    "        print('ended rewrite')\n",
    "        \n",
    "    def print(self):\n",
    "        for elem in self.table:\n",
    "            if elem is not None:\n",
    "                print(elem)\n",
    "\n",
    "    def get(self, key):\n",
    "        index = self.__hash_to_index(key.__hash__())\n",
    "        if self.table[index] is not None:\n",
    "            while not self.table[index][0] == key:\n",
    "                index += 1\n",
    "            return self.table[index][1]\n",
    "\n",
    "    def delete(self, key):\n",
    "        pass\n",
    "\n",
    "    def count(self):\n",
    "        count = 0\n",
    "        for elem in self.table:\n",
    "            if elem is not None:\n",
    "                count += len(elem)\n",
    "        return count\n",
    "\n",
    "    def used_cells(self):\n",
    "        count = 0\n",
    "        for elem in self.table:\n",
    "            if elem is not None:\n",
    "                count += 1\n",
    "        return count\n",
    "\n",
    "\n"
   ]
  },
  {
   "cell_type": "code",
   "execution_count": 72,
   "id": "212382e6-2868-4c9a-9b61-e3358b784389",
   "metadata": {},
   "outputs": [
    {
     "ename": "KeyboardInterrupt",
     "evalue": "",
     "output_type": "error",
     "traceback": [
      "\u001b[0;31m---------------------------------------------------------------------------\u001b[0m",
      "\u001b[0;31mKeyboardInterrupt\u001b[0m                         Traceback (most recent call last)",
      "Cell \u001b[0;32mIn[72], line 10\u001b[0m\n\u001b[1;32m      8\u001b[0m \u001b[38;5;28;01mif\u001b[39;00m key \u001b[38;5;129;01mnot\u001b[39;00m \u001b[38;5;129;01min\u001b[39;00m keys:\n\u001b[1;32m      9\u001b[0m     keys\u001b[38;5;241m.\u001b[39mappend(key)\n\u001b[0;32m---> 10\u001b[0m     \u001b[43mtab\u001b[49m\u001b[38;5;241;43m.\u001b[39;49m\u001b[43madd\u001b[49m\u001b[43m(\u001b[49m\u001b[43mkey\u001b[49m\u001b[43m,\u001b[49m\u001b[43m \u001b[49m\u001b[43mvalue\u001b[49m\u001b[43m)\u001b[49m\n",
      "Cell \u001b[0;32mIn[71], line 25\u001b[0m, in \u001b[0;36mHashTableOpenAddress.add\u001b[0;34m(self, key, value)\u001b[0m\n\u001b[1;32m     23\u001b[0m \u001b[38;5;28;01mif\u001b[39;00m index\u001b[38;5;241m+\u001b[39msteps_down \u001b[38;5;241m<\u001b[39m \u001b[38;5;28mlen\u001b[39m(\u001b[38;5;28mself\u001b[39m\u001b[38;5;241m.\u001b[39mtable)\u001b[38;5;241m-\u001b[39m\u001b[38;5;241m1\u001b[39m:\n\u001b[1;32m     24\u001b[0m     steps_down \u001b[38;5;241m+\u001b[39m\u001b[38;5;241m=\u001b[39m \u001b[38;5;241m1\u001b[39m\n\u001b[0;32m---> 25\u001b[0m \u001b[38;5;28;01mif\u001b[39;00m index\u001b[38;5;241m-\u001b[39msteps_up \u001b[38;5;241m>\u001b[39m \u001b[38;5;241m0\u001b[39m:\n\u001b[1;32m     26\u001b[0m     steps_up \u001b[38;5;241m+\u001b[39m\u001b[38;5;241m=\u001b[39m \u001b[38;5;241m1\u001b[39m\n\u001b[1;32m     27\u001b[0m \u001b[38;5;28;01mif\u001b[39;00m \u001b[38;5;129;01mnot\u001b[39;00m (index\u001b[38;5;241m+\u001b[39msteps_down \u001b[38;5;241m<\u001b[39m \u001b[38;5;28mlen\u001b[39m(\u001b[38;5;28mself\u001b[39m\u001b[38;5;241m.\u001b[39mtable) \u001b[38;5;129;01mor\u001b[39;00m index\u001b[38;5;241m-\u001b[39msteps_up \u001b[38;5;241m>\u001b[39m\u001b[38;5;241m=\u001b[39m \u001b[38;5;241m0\u001b[39m):\n",
      "\u001b[0;31mKeyboardInterrupt\u001b[0m: "
     ]
    }
   ],
   "source": [
    "import random\n",
    "\n",
    "tab = HashTableOpenAddress()\n",
    "keys = []\n",
    "for _ in range(10000):\n",
    "    key = str(random.randint(0, 100000000000))\n",
    "    value = str(random.randint(0, 100000000000))\n",
    "    if key not in keys:\n",
    "        keys.append(key)\n",
    "        tab.add(key, value)"
   ]
  },
  {
   "cell_type": "code",
   "execution_count": 57,
   "id": "92d7e4ff-8eba-4360-8bc3-df1121b57d4f",
   "metadata": {},
   "outputs": [
    {
     "data": {
      "text/plain": [
       "3"
      ]
     },
     "execution_count": 57,
     "metadata": {},
     "output_type": "execute_result"
    }
   ],
   "source": [
    "tab.max_steps"
   ]
  },
  {
   "cell_type": "code",
   "execution_count": 41,
   "id": "9ea8590b-bdd8-4a7a-99c3-32944882e95f",
   "metadata": {},
   "outputs": [
    {
     "data": {
      "text/plain": [
       "10000"
      ]
     },
     "execution_count": 41,
     "metadata": {},
     "output_type": "execute_result"
    }
   ],
   "source": [
    "tab.used_cells()"
   ]
  },
  {
   "cell_type": "code",
   "execution_count": 36,
   "id": "6f3da261-a857-46b2-8251-2f5913191ae3",
   "metadata": {},
   "outputs": [
    {
     "name": "stdout",
     "output_type": "stream",
     "text": [
      "5000\n",
      "10000\n",
      "9998 4\n",
      "rewrite\n",
      "ended rewrite\n",
      "15000\n",
      "9999 4\n",
      "rewrite\n",
      "ended rewrite\n",
      "20000\n",
      "6 4\n",
      "rewrite\n",
      "ended rewrite\n",
      "25000\n",
      "9998 4\n",
      "rewrite\n",
      "ended rewrite\n",
      "30000\n",
      "9999 4\n",
      "rewrite\n",
      "ended rewrite\n"
     ]
    }
   ],
   "source": [
    "import random\n",
    "\n",
    "sizes = [5000, 10000, 15000, 20000, 25000, 30000]\n",
    "used = []\n",
    "table_sizes = []\n",
    "colls = []\n",
    "max_steps = []\n",
    "for size in sizes:\n",
    "    print(size)\n",
    "    tab = HashTableOpenAddress()\n",
    "    keys = []\n",
    "    for _ in range(size):\n",
    "        key = str(random.randint(0, 100000000000))\n",
    "        value = str(random.randint(0, 100000000000))\n",
    "        if key not in keys:\n",
    "            keys.append(key)\n",
    "            tab.add(key, value)\n",
    "    used.append(tab.used_cells() / len(tab.table))\n",
    "    colls.append(tab.collision_count)\n",
    "    max_steps.append(tab.max_steps)"
   ]
  },
  {
   "cell_type": "code",
   "execution_count": 37,
   "id": "7e9d0cd4-8fc0-428a-b552-fdefdd389973",
   "metadata": {},
   "outputs": [
    {
     "data": {
      "image/png": "[encoded data removed]",
      "text/plain": [
       "<Figure size 640x480 with 1 Axes>"
      ]
     },
     "metadata": {},
     "output_type": "display_data"
    }
   ],
   "source": [
    "from matplotlib import pyplot as plt\n",
    "\n",
    "plt.plot(sizes, used, label='used cells share')\n",
    "# plt.plot(sizes, colls, label='collision count')\n",
    "# plt.plot(sizes, max_steps, label='max steps')\n",
    "plt.legend()\n",
    "plt.grid()"
   ]
  },
  {
   "cell_type": "code",
   "execution_count": 14,
   "id": "8e3c2037-41b6-401c-81d3-61525f939a53",
   "metadata": {},
   "outputs": [],
   "source": [
    "hashes = []\n",
    "for _ in range(50000):\n",
    "    key = str(random.randint(0, 100000000000))\n",
    "    h = abs(key.__hash__()) % (10**4)\n",
    "    hashes.append(h)"
   ]
  },
  {
   "cell_type": "code",
   "execution_count": 15,
   "id": "5dc8ae10-29b5-4878-a5c6-f76f81719253",
   "metadata": {},
   "outputs": [
    {
     "data": {
      "text/plain": [
       "(array([54., 54., 47., 47., 53., 48., 69., 53., 50., 42., 46., 49., 51.,\n",
       "        56., 35., 53., 51., 64., 48., 58., 51., 56., 41., 55., 43., 50.,\n",
       "        66., 46., 51., 56., 45., 48., 49., 48., 50., 56., 38., 50., 49.,\n",
       "        46., 59., 48., 54., 52., 49., 52., 38., 56., 47., 35., 48., 49.,\n",
       "        50., 44., 69., 50., 46., 45., 53., 55., 53., 56., 45., 54., 61.,\n",
       "        49., 40., 50., 45., 44., 56., 44., 53., 47., 56., 51., 50., 51.,\n",
       "        56., 52., 53., 41., 33., 47., 49., 44., 44., 58., 50., 56., 49.,\n",
       "        56., 50., 67., 44., 50., 44., 47., 54., 57., 48., 30., 66., 55.,\n",
       "        43., 49., 49., 36., 48., 53., 60., 56., 47., 46., 57., 54., 49.,\n",
       "        53., 49., 55., 49., 51., 52., 53., 42., 49., 52., 60., 46., 50.,\n",
       "        47., 50., 44., 51., 59., 51., 38., 50., 55., 59., 56., 38., 55.,\n",
       "        64., 48., 61., 56., 54., 54., 48., 54., 45., 47., 38., 53., 56.,\n",
       "        43., 55., 46., 53., 63., 38., 37., 56., 46., 48., 52., 54., 59.,\n",
       "        53., 64., 65., 51., 47., 59., 63., 45., 44., 65., 49., 54., 43.,\n",
       "        46., 66., 45., 47., 40., 55., 44., 60., 47., 53., 44., 57., 45.,\n",
       "        31., 50., 53., 45., 61., 57., 47., 43., 42., 65., 56., 42., 60.,\n",
       "        44., 59., 51., 38., 43., 50., 59., 46., 41., 42., 55., 59., 55.,\n",
       "        54., 58., 38., 57., 41., 49., 51., 53., 48., 53., 49., 50., 40.,\n",
       "        49., 47., 66., 37., 50., 57., 62., 45., 47., 48., 46., 52., 48.,\n",
       "        46., 51., 44., 43., 50., 53., 38., 56., 53., 40., 45., 46., 51.,\n",
       "        45., 55., 50., 43., 52., 50., 53., 42., 49., 40., 40., 40., 50.,\n",
       "        47., 43., 61., 56., 57., 56., 45., 54., 61., 47., 56., 56., 51.,\n",
       "        69., 38., 57., 45., 33., 48., 53., 47., 54., 45., 55., 53., 45.,\n",
       "        47., 55., 46., 55., 41., 42., 40., 51., 48., 55., 57., 64., 57.,\n",
       "        63., 41., 53., 60., 47., 47., 47., 56., 45., 42., 54., 58., 56.,\n",
       "        41., 45., 40., 57., 39., 46., 46., 53., 37., 45., 46., 41., 48.,\n",
       "        51., 49., 39., 49., 53., 57., 66., 30., 45., 46., 48., 59., 53.,\n",
       "        48., 55., 54., 47., 48., 46., 50., 48., 46., 44., 56., 43., 52.,\n",
       "        67., 43., 41., 52., 52., 41., 53., 50., 61., 48., 45., 28., 50.,\n",
       "        40., 47., 50., 47., 47., 51., 62., 49., 43., 55., 57., 54., 50.,\n",
       "        51., 36., 49., 48., 64., 52., 49., 63., 52., 50., 53., 46., 53.,\n",
       "        57., 64., 51., 49., 38., 52., 41., 48., 40., 51., 65., 51., 53.,\n",
       "        56., 51., 43., 39., 45., 51., 52., 55., 44., 57., 42., 53., 69.,\n",
       "        59., 51., 48., 47., 56., 56., 38., 54., 58., 49., 53., 54., 44.,\n",
       "        57., 46., 67., 58., 61., 48., 64., 54., 51., 52., 48., 47., 54.,\n",
       "        52., 51., 44., 48., 58., 44., 46., 52., 43., 45., 47., 45., 48.,\n",
       "        49., 42., 27., 35., 43., 55., 45., 43., 58., 46., 44., 42., 46.,\n",
       "        46., 43., 48., 41., 47., 46., 51., 57., 73., 49., 64., 41., 43.,\n",
       "        52., 44., 52., 45., 47., 49., 62., 60., 49., 56., 47., 40., 45.,\n",
       "        45., 56., 38., 64., 53., 37., 59., 40., 50., 49., 55., 56., 44.,\n",
       "        53., 58., 46., 46., 55., 42., 55., 57., 51., 42., 43., 59., 45.,\n",
       "        55., 51., 60., 44., 49., 49., 59., 39., 52., 50., 50., 38., 48.,\n",
       "        49., 51., 60., 52., 39., 51., 43., 50., 61., 46., 56., 44., 44.,\n",
       "        64., 59., 51., 56., 54., 51., 38., 57., 66., 42., 51., 54., 39.,\n",
       "        64., 31., 48., 39., 49., 40., 56., 57., 52., 47., 49., 40., 44.,\n",
       "        58., 58., 44., 35., 49., 48., 51., 40., 53., 45., 52., 59., 42.,\n",
       "        56., 44., 53., 55., 48., 39., 49., 48., 59., 51., 47., 47., 49.,\n",
       "        52., 50., 45., 52., 51., 47., 52., 56., 39., 45., 38., 59., 60.,\n",
       "        47., 44., 50., 42., 52., 43., 47., 39., 51., 45., 42., 61., 59.,\n",
       "        65., 52., 49., 55., 53., 55., 69., 48., 63., 43., 47., 51., 70.,\n",
       "        48., 51., 53., 56., 45., 55., 44., 40., 57., 40., 46., 41., 49.,\n",
       "        47., 44., 62., 43., 43., 44., 39., 45., 46., 43., 53., 36., 50.,\n",
       "        55., 38., 53., 62., 59., 39., 49., 60., 41., 74., 55., 54., 43.,\n",
       "        42., 60., 50., 47., 48., 51., 64., 39., 46., 53., 51., 52., 63.,\n",
       "        65., 40., 38., 54., 50., 61., 45., 44., 56., 40., 54., 48., 50.,\n",
       "        45., 53., 54., 34., 49., 54., 50., 49., 50., 41., 56., 55., 61.,\n",
       "        47., 44., 42., 56., 50., 60., 41., 41., 58., 56., 56., 66., 46.,\n",
       "        52., 48., 52., 49., 38., 73., 50., 47., 47., 40., 42., 60., 57.,\n",
       "        42., 52., 39., 60., 48., 62., 55., 51., 41., 46., 49., 50., 48.,\n",
       "        44., 32., 73., 41., 51., 51., 57., 39., 54., 44., 33., 47., 47.,\n",
       "        55., 40., 60., 47., 48., 45., 64., 47., 53., 47., 48., 55., 62.,\n",
       "        70., 58., 44., 48., 55., 53., 52., 58., 66., 46., 44., 45., 49.,\n",
       "        70., 48., 59., 45., 56., 37., 49., 74., 55., 52., 50., 50., 49.,\n",
       "        47., 45., 42., 53., 57., 56., 42., 40., 54., 57., 58., 62., 43.,\n",
       "        54., 58., 55., 48., 50., 45., 39., 53., 45., 50., 67., 49., 41.,\n",
       "        51., 53., 54., 44., 60., 59., 49., 59., 49., 52., 42., 47., 52.,\n",
       "        49., 50., 37., 43., 51., 44., 44., 49., 58., 47., 50., 68., 49.,\n",
       "        42., 47., 42., 45., 44., 51., 65., 44., 54., 59., 53., 39., 50.,\n",
       "        57., 43., 62., 60., 45., 51., 54., 50., 48., 53., 46., 48., 45.,\n",
       "        48., 44., 54., 39., 45., 59., 54., 46., 51., 40., 55., 48., 43.,\n",
       "        49., 57., 43., 53., 54., 47., 48., 50., 56., 42., 55., 63., 44.,\n",
       "        41., 55., 48., 48., 64., 46., 51., 58., 48., 52., 44., 57., 40.,\n",
       "        49., 50., 50., 63., 53., 52., 43., 57., 52., 45., 47., 56., 42.,\n",
       "        55., 60., 39., 56., 45., 39., 38., 45., 55., 51., 47., 49., 52.,\n",
       "        54., 28., 42., 60., 48., 60., 62., 46., 46., 52., 48., 44., 48.,\n",
       "        42., 54., 54., 54., 47., 44., 45., 55., 51., 60., 48., 52., 55.,\n",
       "        53., 51., 49., 46., 45., 37., 46., 51., 55., 35., 60., 43.]),\n",
       " array([   0.   ,    9.999,   19.998, ..., 9979.002, 9989.001, 9999.   ]),\n",
       " <BarContainer object of 1000 artists>)"
      ]
     },
     "execution_count": 15,
     "metadata": {},
     "output_type": "execute_result"
    },
    {
     "data": {
      "image/png": "[encoded data removed]",
      "text/plain": [
       "<Figure size 640x480 with 1 Axes>"
      ]
     },
     "metadata": {},
     "output_type": "display_data"
    }
   ],
   "source": [
    "plt.hist(hashes, bins=1000)"
   ]
  },
  {
   "cell_type": "code",
   "execution_count": null,
   "id": "b4fd936d-f89a-42f8-8336-c523170ba786",
   "metadata": {},
   "outputs": [],
   "source": []
  }
 ],
 "metadata": {
  "kernelspec": {
   "display_name": "Python 3 (ipykernel)",
   "language": "python",
   "name": "python3"
  },
  "language_info": {
   "codemirror_mode": {
    "name": "ipython",
    "version": 3
   },
   "file_extension": ".py",
   "mimetype": "text/x-python",
   "name": "python",
   "nbconvert_exporter": "python",
   "pygments_lexer": "ipython3",
   "version": "3.10.12"
  }
 },
 "nbformat": 4,
 "nbformat_minor": 5
}
